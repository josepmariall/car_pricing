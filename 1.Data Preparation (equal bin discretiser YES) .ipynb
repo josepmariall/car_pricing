{
 "cells": [
  {
   "cell_type": "markdown",
   "metadata": {},
   "source": [
    "# I. Data Preparation (equal bin)\n",
    "\n",
    "The goal of this dataset is to clean the data set we'll use for data visualizations and training the model.\n",
    "\n",
    "We'll proceed to:\n",
    "- Data Exploration and data split\n",
    "- Feature Engineering (categorical encoding using equal bin discretiser and top/bottom encoding)\n",
    "- Save data for feature predictions\n"
   ]
  },
  {
   "cell_type": "markdown",
   "metadata": {},
   "source": [
    "## Part I : Data Exploratoin"
   ]
  },
  {
   "cell_type": "markdown",
   "metadata": {},
   "source": [
    "####  1. Importing libraries and data"
   ]
  },
  {
   "cell_type": "code",
   "execution_count": 1,
   "metadata": {},
   "outputs": [],
   "source": [
    "# to handle datasets\n",
    "import pandas as pd\n",
    "import numpy as np\n",
    "\n",
    "# for plotting\n",
    "import matplotlib.pyplot as plt\n",
    "%matplotlib inline\n",
    "\n",
    "# to divide train and test set\n",
    "from sklearn.model_selection import train_test_split\n",
    "\n",
    "# feature scaling\n",
    "from sklearn.preprocessing import MinMaxScaler\n",
    "\n",
    "# for tree binarisation\n",
    "from sklearn.tree import DecisionTreeRegressor\n",
    "from sklearn.model_selection import cross_val_score\n",
    "\n",
    "\n",
    "# to build the models\n",
    "from sklearn.linear_model import LinearRegression, Lasso\n",
    "from sklearn.ensemble import RandomForestRegressor\n",
    "from sklearn.svm import SVR\n",
    "import xgboost as xgb\n",
    "\n",
    "# to evaluate the models\n",
    "from sklearn.metrics import mean_squared_error\n",
    "from math import sqrt\n",
    "\n",
    "pd.pandas.set_option('display.max_columns', None)\n",
    "\n",
    "import warnings\n",
    "warnings.filterwarnings('ignore')\n",
    "\n",
    "\n",
    "#Scaling\n",
    "from sklearn.preprocessing import RobustScaler\n",
    "from sklearn.preprocessing import MinMaxScaler\n",
    "from sklearn.preprocessing import StandardScaler\n",
    "\n"
   ]
  },
  {
   "cell_type": "markdown",
   "metadata": {},
   "source": [
    "#### 2. Import and merge datasets"
   ]
  },
  {
   "cell_type": "code",
   "execution_count": 2,
   "metadata": {},
   "outputs": [
    {
     "data": {
      "text/plain": [
       "(216, 26)"
      ]
     },
     "execution_count": 2,
     "metadata": {},
     "output_type": "execute_result"
    }
   ],
   "source": [
    "#import first data set\n",
    "autos=pd.read_csv('autos.csv',sep=',')\n",
    "autos.shape"
   ]
  },
  {
   "cell_type": "code",
   "execution_count": 3,
   "metadata": {},
   "outputs": [
    {
     "data": {
      "text/html": [
       "<div>\n",
       "<style scoped>\n",
       "    .dataframe tbody tr th:only-of-type {\n",
       "        vertical-align: middle;\n",
       "    }\n",
       "\n",
       "    .dataframe tbody tr th {\n",
       "        vertical-align: top;\n",
       "    }\n",
       "\n",
       "    .dataframe thead th {\n",
       "        text-align: right;\n",
       "    }\n",
       "</style>\n",
       "<table border=\"1\" class=\"dataframe\">\n",
       "  <thead>\n",
       "    <tr style=\"text-align: right;\">\n",
       "      <th></th>\n",
       "      <th>symboling</th>\n",
       "      <th>normalized-losses</th>\n",
       "      <th>make-id</th>\n",
       "      <th>fuel-type</th>\n",
       "      <th>aspiration</th>\n",
       "      <th>num-of-doors</th>\n",
       "      <th>body-style</th>\n",
       "      <th>drive-wheels</th>\n",
       "      <th>engine-location</th>\n",
       "      <th>wheel-base</th>\n",
       "      <th>length</th>\n",
       "      <th>width</th>\n",
       "      <th>height</th>\n",
       "      <th>curb-weight</th>\n",
       "      <th>engine-type</th>\n",
       "      <th>num-of-cylinders</th>\n",
       "      <th>engine-size</th>\n",
       "      <th>fuel-system</th>\n",
       "      <th>bore</th>\n",
       "      <th>stroke</th>\n",
       "      <th>compression-ratio</th>\n",
       "      <th>horsepower</th>\n",
       "      <th>peak-rpm</th>\n",
       "      <th>city-mpg</th>\n",
       "      <th>highway-mpg</th>\n",
       "      <th>price</th>\n",
       "    </tr>\n",
       "  </thead>\n",
       "  <tbody>\n",
       "    <tr>\n",
       "      <th>0</th>\n",
       "      <td>3</td>\n",
       "      <td>NaN</td>\n",
       "      <td>1</td>\n",
       "      <td>gas</td>\n",
       "      <td>std</td>\n",
       "      <td>two</td>\n",
       "      <td>convertible</td>\n",
       "      <td>rwd</td>\n",
       "      <td>front</td>\n",
       "      <td>88.6</td>\n",
       "      <td>168.8</td>\n",
       "      <td>64.1</td>\n",
       "      <td>48.8</td>\n",
       "      <td>2548</td>\n",
       "      <td>dohc</td>\n",
       "      <td>four</td>\n",
       "      <td>130</td>\n",
       "      <td>mpfi</td>\n",
       "      <td>3.47</td>\n",
       "      <td>2.68</td>\n",
       "      <td>9.0</td>\n",
       "      <td>111.0</td>\n",
       "      <td>5000.0</td>\n",
       "      <td>21</td>\n",
       "      <td>27</td>\n",
       "      <td>13495.0</td>\n",
       "    </tr>\n",
       "    <tr>\n",
       "      <th>1</th>\n",
       "      <td>3</td>\n",
       "      <td>NaN</td>\n",
       "      <td>1</td>\n",
       "      <td>gas</td>\n",
       "      <td>std</td>\n",
       "      <td>two</td>\n",
       "      <td>convertible</td>\n",
       "      <td>rwd</td>\n",
       "      <td>front</td>\n",
       "      <td>88.6</td>\n",
       "      <td>168.8</td>\n",
       "      <td>64.1</td>\n",
       "      <td>48.8</td>\n",
       "      <td>2548</td>\n",
       "      <td>dohc</td>\n",
       "      <td>four</td>\n",
       "      <td>130</td>\n",
       "      <td>mpfi</td>\n",
       "      <td>3.47</td>\n",
       "      <td>2.68</td>\n",
       "      <td>9.0</td>\n",
       "      <td>111.0</td>\n",
       "      <td>5000.0</td>\n",
       "      <td>21</td>\n",
       "      <td>27</td>\n",
       "      <td>16500.0</td>\n",
       "    </tr>\n",
       "  </tbody>\n",
       "</table>\n",
       "</div>"
      ],
      "text/plain": [
       "   symboling  normalized-losses  make-id fuel-type aspiration num-of-doors  \\\n",
       "0          3                NaN        1       gas        std          two   \n",
       "1          3                NaN        1       gas        std          two   \n",
       "\n",
       "    body-style drive-wheels engine-location  wheel-base  length  width  \\\n",
       "0  convertible          rwd           front        88.6   168.8   64.1   \n",
       "1  convertible          rwd           front        88.6   168.8   64.1   \n",
       "\n",
       "   height  curb-weight engine-type num-of-cylinders  engine-size fuel-system  \\\n",
       "0    48.8         2548        dohc             four          130        mpfi   \n",
       "1    48.8         2548        dohc             four          130        mpfi   \n",
       "\n",
       "   bore  stroke  compression-ratio  horsepower  peak-rpm  city-mpg  \\\n",
       "0  3.47    2.68                9.0       111.0    5000.0        21   \n",
       "1  3.47    2.68                9.0       111.0    5000.0        21   \n",
       "\n",
       "   highway-mpg    price  \n",
       "0           27  13495.0  \n",
       "1           27  16500.0  "
      ]
     },
     "execution_count": 3,
     "metadata": {},
     "output_type": "execute_result"
    }
   ],
   "source": [
    "#View data\n",
    "autos.head(2)"
   ]
  },
  {
   "cell_type": "code",
   "execution_count": 4,
   "metadata": {},
   "outputs": [
    {
     "data": {
      "text/plain": [
       "(22, 2)"
      ]
     },
     "execution_count": 4,
     "metadata": {},
     "output_type": "execute_result"
    }
   ],
   "source": [
    "#import second data set\n",
    "makes=pd.read_csv('makes.csv',sep=',')\n",
    "makes.shape"
   ]
  },
  {
   "cell_type": "code",
   "execution_count": 5,
   "metadata": {},
   "outputs": [
    {
     "data": {
      "text/plain": [
       "(216, 28)"
      ]
     },
     "execution_count": 5,
     "metadata": {},
     "output_type": "execute_result"
    }
   ],
   "source": [
    "# Merge the two datasets\n",
    "df= pd.concat([autos,makes],axis=1)\n",
    "df.shape"
   ]
  },
  {
   "cell_type": "code",
   "execution_count": 6,
   "metadata": {
    "scrolled": true
   },
   "outputs": [
    {
     "data": {
      "text/plain": [
       "Index(['symboling', 'normalized-losses', 'make-id', 'fuel-type', 'aspiration',\n",
       "       'num-of-doors', 'body-style', 'drive-wheels', 'engine-location',\n",
       "       'wheel-base', 'length', 'width', 'height', 'curb-weight', 'engine-type',\n",
       "       'num-of-cylinders', 'engine-size', 'fuel-system', 'bore', 'stroke',\n",
       "       'compression-ratio', 'horsepower', 'peak-rpm', 'city-mpg',\n",
       "       'highway-mpg', 'price', 'make-id', 'make'],\n",
       "      dtype='object')"
      ]
     },
     "execution_count": 6,
     "metadata": {},
     "output_type": "execute_result"
    }
   ],
   "source": [
    "#column list\n",
    "df.columns"
   ]
  },
  {
   "cell_type": "markdown",
   "metadata": {},
   "source": [
    "I can foresee problems when dealing with problems with a - sign, so I shall replace it by a lower case _."
   ]
  },
  {
   "cell_type": "code",
   "execution_count": 7,
   "metadata": {},
   "outputs": [],
   "source": [
    "old_names = ['symboling', 'normalized-losses', 'make-id', 'fuel-type', 'aspiration',\n",
    "       'num-of-doors', 'body-style', 'drive-wheels', 'engine-location',\n",
    "       'wheel-base', 'length', 'width', 'height', 'curb-weight', 'engine-type',\n",
    "       'num-of-cylinders', 'engine-size', 'fuel-system', 'bore', 'stroke',\n",
    "       'compression-ratio', 'horsepower', 'peak-rpm', 'city-mpg',\n",
    "       'highway-mpg', 'price', 'make-id', 'make'] \n",
    "new_names = ['symboling', 'normalized_losses', 'make_id', 'fuel_type', 'aspiration',\n",
    "       'num_of_doors', 'body_style', 'drive_wheels', 'engine_location',\n",
    "       'wheel_base', 'length', 'width', 'height', 'curb_weight', 'engine_type',\n",
    "       'num_of_cylinders', 'engine_size', 'fuel_system', 'bore', 'stroke',\n",
    "       'compression_ratio', 'horsepower', 'peak_rpm', 'city_mpg',\n",
    "       'highway_mpg', 'price', 'make_id', 'make']\n",
    "df.rename(columns=dict(zip(old_names, new_names)), inplace=True)"
   ]
  },
  {
   "cell_type": "code",
   "execution_count": 8,
   "metadata": {},
   "outputs": [
    {
     "data": {
      "text/html": [
       "<div>\n",
       "<style scoped>\n",
       "    .dataframe tbody tr th:only-of-type {\n",
       "        vertical-align: middle;\n",
       "    }\n",
       "\n",
       "    .dataframe tbody tr th {\n",
       "        vertical-align: top;\n",
       "    }\n",
       "\n",
       "    .dataframe thead th {\n",
       "        text-align: right;\n",
       "    }\n",
       "</style>\n",
       "<table border=\"1\" class=\"dataframe\">\n",
       "  <thead>\n",
       "    <tr style=\"text-align: right;\">\n",
       "      <th></th>\n",
       "      <th>symboling</th>\n",
       "      <th>normalized_losses</th>\n",
       "      <th>make_id</th>\n",
       "      <th>fuel_type</th>\n",
       "      <th>aspiration</th>\n",
       "      <th>num_of_doors</th>\n",
       "      <th>body_style</th>\n",
       "      <th>drive_wheels</th>\n",
       "      <th>engine_location</th>\n",
       "      <th>wheel_base</th>\n",
       "      <th>length</th>\n",
       "      <th>width</th>\n",
       "      <th>height</th>\n",
       "      <th>curb_weight</th>\n",
       "      <th>engine_type</th>\n",
       "      <th>num_of_cylinders</th>\n",
       "      <th>engine_size</th>\n",
       "      <th>fuel_system</th>\n",
       "      <th>bore</th>\n",
       "      <th>stroke</th>\n",
       "      <th>compression_ratio</th>\n",
       "      <th>horsepower</th>\n",
       "      <th>peak_rpm</th>\n",
       "      <th>city_mpg</th>\n",
       "      <th>highway_mpg</th>\n",
       "      <th>price</th>\n",
       "      <th>make_id</th>\n",
       "      <th>make</th>\n",
       "    </tr>\n",
       "  </thead>\n",
       "  <tbody>\n",
       "    <tr>\n",
       "      <th>0</th>\n",
       "      <td>3</td>\n",
       "      <td>NaN</td>\n",
       "      <td>1</td>\n",
       "      <td>gas</td>\n",
       "      <td>std</td>\n",
       "      <td>two</td>\n",
       "      <td>convertible</td>\n",
       "      <td>rwd</td>\n",
       "      <td>front</td>\n",
       "      <td>88.6</td>\n",
       "      <td>168.8</td>\n",
       "      <td>64.1</td>\n",
       "      <td>48.8</td>\n",
       "      <td>2548</td>\n",
       "      <td>dohc</td>\n",
       "      <td>four</td>\n",
       "      <td>130</td>\n",
       "      <td>mpfi</td>\n",
       "      <td>3.47</td>\n",
       "      <td>2.68</td>\n",
       "      <td>9.0</td>\n",
       "      <td>111.0</td>\n",
       "      <td>5000.0</td>\n",
       "      <td>21</td>\n",
       "      <td>27</td>\n",
       "      <td>13495.0</td>\n",
       "      <td>1.0</td>\n",
       "      <td>alfa-romero</td>\n",
       "    </tr>\n",
       "    <tr>\n",
       "      <th>1</th>\n",
       "      <td>3</td>\n",
       "      <td>NaN</td>\n",
       "      <td>1</td>\n",
       "      <td>gas</td>\n",
       "      <td>std</td>\n",
       "      <td>two</td>\n",
       "      <td>convertible</td>\n",
       "      <td>rwd</td>\n",
       "      <td>front</td>\n",
       "      <td>88.6</td>\n",
       "      <td>168.8</td>\n",
       "      <td>64.1</td>\n",
       "      <td>48.8</td>\n",
       "      <td>2548</td>\n",
       "      <td>dohc</td>\n",
       "      <td>four</td>\n",
       "      <td>130</td>\n",
       "      <td>mpfi</td>\n",
       "      <td>3.47</td>\n",
       "      <td>2.68</td>\n",
       "      <td>9.0</td>\n",
       "      <td>111.0</td>\n",
       "      <td>5000.0</td>\n",
       "      <td>21</td>\n",
       "      <td>27</td>\n",
       "      <td>16500.0</td>\n",
       "      <td>2.0</td>\n",
       "      <td>audi</td>\n",
       "    </tr>\n",
       "    <tr>\n",
       "      <th>2</th>\n",
       "      <td>1</td>\n",
       "      <td>NaN</td>\n",
       "      <td>1</td>\n",
       "      <td>gas</td>\n",
       "      <td>std</td>\n",
       "      <td>two</td>\n",
       "      <td>hatchback</td>\n",
       "      <td>rwd</td>\n",
       "      <td>front</td>\n",
       "      <td>94.5</td>\n",
       "      <td>171.2</td>\n",
       "      <td>65.5</td>\n",
       "      <td>52.4</td>\n",
       "      <td>2823</td>\n",
       "      <td>ohcv</td>\n",
       "      <td>six</td>\n",
       "      <td>152</td>\n",
       "      <td>mpfi</td>\n",
       "      <td>2.68</td>\n",
       "      <td>3.47</td>\n",
       "      <td>9.0</td>\n",
       "      <td>154.0</td>\n",
       "      <td>5000.0</td>\n",
       "      <td>19</td>\n",
       "      <td>26</td>\n",
       "      <td>16500.0</td>\n",
       "      <td>3.0</td>\n",
       "      <td>bmw</td>\n",
       "    </tr>\n",
       "    <tr>\n",
       "      <th>3</th>\n",
       "      <td>2</td>\n",
       "      <td>164.0</td>\n",
       "      <td>2</td>\n",
       "      <td>gas</td>\n",
       "      <td>std</td>\n",
       "      <td>four</td>\n",
       "      <td>sedan</td>\n",
       "      <td>fwd</td>\n",
       "      <td>front</td>\n",
       "      <td>99.8</td>\n",
       "      <td>176.6</td>\n",
       "      <td>66.2</td>\n",
       "      <td>54.3</td>\n",
       "      <td>2337</td>\n",
       "      <td>ohc</td>\n",
       "      <td>four</td>\n",
       "      <td>109</td>\n",
       "      <td>mpfi</td>\n",
       "      <td>3.19</td>\n",
       "      <td>3.40</td>\n",
       "      <td>10.0</td>\n",
       "      <td>102.0</td>\n",
       "      <td>5500.0</td>\n",
       "      <td>24</td>\n",
       "      <td>30</td>\n",
       "      <td>13950.0</td>\n",
       "      <td>4.0</td>\n",
       "      <td>chevrolet</td>\n",
       "    </tr>\n",
       "    <tr>\n",
       "      <th>4</th>\n",
       "      <td>2</td>\n",
       "      <td>164.0</td>\n",
       "      <td>2</td>\n",
       "      <td>gas</td>\n",
       "      <td>std</td>\n",
       "      <td>four</td>\n",
       "      <td>sedan</td>\n",
       "      <td>4wd</td>\n",
       "      <td>front</td>\n",
       "      <td>99.4</td>\n",
       "      <td>176.6</td>\n",
       "      <td>66.4</td>\n",
       "      <td>54.3</td>\n",
       "      <td>2824</td>\n",
       "      <td>ohc</td>\n",
       "      <td>five</td>\n",
       "      <td>136</td>\n",
       "      <td>mpfi</td>\n",
       "      <td>3.19</td>\n",
       "      <td>3.40</td>\n",
       "      <td>8.0</td>\n",
       "      <td>115.0</td>\n",
       "      <td>5500.0</td>\n",
       "      <td>18</td>\n",
       "      <td>22</td>\n",
       "      <td>17450.0</td>\n",
       "      <td>5.0</td>\n",
       "      <td>dodge</td>\n",
       "    </tr>\n",
       "  </tbody>\n",
       "</table>\n",
       "</div>"
      ],
      "text/plain": [
       "   symboling  normalized_losses  make_id fuel_type aspiration num_of_doors  \\\n",
       "0          3                NaN        1       gas        std          two   \n",
       "1          3                NaN        1       gas        std          two   \n",
       "2          1                NaN        1       gas        std          two   \n",
       "3          2              164.0        2       gas        std         four   \n",
       "4          2              164.0        2       gas        std         four   \n",
       "\n",
       "    body_style drive_wheels engine_location  wheel_base  length  width  \\\n",
       "0  convertible          rwd           front        88.6   168.8   64.1   \n",
       "1  convertible          rwd           front        88.6   168.8   64.1   \n",
       "2    hatchback          rwd           front        94.5   171.2   65.5   \n",
       "3        sedan          fwd           front        99.8   176.6   66.2   \n",
       "4        sedan          4wd           front        99.4   176.6   66.4   \n",
       "\n",
       "   height  curb_weight engine_type num_of_cylinders  engine_size fuel_system  \\\n",
       "0    48.8         2548        dohc             four          130        mpfi   \n",
       "1    48.8         2548        dohc             four          130        mpfi   \n",
       "2    52.4         2823        ohcv              six          152        mpfi   \n",
       "3    54.3         2337         ohc             four          109        mpfi   \n",
       "4    54.3         2824         ohc             five          136        mpfi   \n",
       "\n",
       "   bore  stroke  compression_ratio  horsepower  peak_rpm  city_mpg  \\\n",
       "0  3.47    2.68                9.0       111.0    5000.0        21   \n",
       "1  3.47    2.68                9.0       111.0    5000.0        21   \n",
       "2  2.68    3.47                9.0       154.0    5000.0        19   \n",
       "3  3.19    3.40               10.0       102.0    5500.0        24   \n",
       "4  3.19    3.40                8.0       115.0    5500.0        18   \n",
       "\n",
       "   highway_mpg    price  make_id           make  \n",
       "0           27  13495.0      1.0  alfa-romero    \n",
       "1           27  16500.0      2.0         audi    \n",
       "2           26  16500.0      3.0          bmw    \n",
       "3           30  13950.0      4.0    chevrolet    \n",
       "4           22  17450.0      5.0        dodge    "
      ]
     },
     "execution_count": 8,
     "metadata": {},
     "output_type": "execute_result"
    }
   ],
   "source": [
    "df.head()"
   ]
  },
  {
   "cell_type": "code",
   "execution_count": 9,
   "metadata": {},
   "outputs": [
    {
     "data": {
      "text/plain": [
       "Index(['symboling', 'normalized_losses', 'make_id', 'fuel_type', 'aspiration',\n",
       "       'num_of_doors', 'body_style', 'drive_wheels', 'engine_location',\n",
       "       'wheel_base', 'length', 'width', 'height', 'curb_weight', 'engine_type',\n",
       "       'num_of_cylinders', 'engine_size', 'fuel_system', 'bore', 'stroke',\n",
       "       'compression_ratio', 'horsepower', 'peak_rpm', 'city_mpg',\n",
       "       'highway_mpg', 'price', 'make_id', 'make'],\n",
       "      dtype='object')"
      ]
     },
     "execution_count": 9,
     "metadata": {},
     "output_type": "execute_result"
    }
   ],
   "source": [
    "df.columns"
   ]
  },
  {
   "cell_type": "markdown",
   "metadata": {},
   "source": [
    "#### 3. Drop duplicate rows and columns"
   ]
  },
  {
   "cell_type": "code",
   "execution_count": 10,
   "metadata": {},
   "outputs": [],
   "source": [
    "#drop duplicate rows (using subset, I drop raws where values of columns mentioned match)\n",
    "df.drop_duplicates(subset=['symboling', 'normalized_losses', 'make_id', 'fuel_type', 'aspiration',\n",
    "       'num_of_doors', 'body_style', 'drive_wheels', 'engine_location',\n",
    "       'wheel_base', 'length', 'width', 'height', 'curb_weight', 'engine_type',\n",
    "       'num_of_cylinders', 'engine_size', 'fuel_system', 'bore', 'stroke',\n",
    "       'compression_ratio', 'horsepower', 'peak_rpm', 'city_mpg',\n",
    "       'highway_mpg', 'price', 'make_id', 'make'], inplace = True)"
   ]
  },
  {
   "cell_type": "code",
   "execution_count": 11,
   "metadata": {},
   "outputs": [
    {
     "data": {
      "text/plain": [
       "(205, 28)"
      ]
     },
     "execution_count": 11,
     "metadata": {},
     "output_type": "execute_result"
    }
   ],
   "source": [
    "#see shape after duplicate row removal\n",
    "df.shape"
   ]
  },
  {
   "cell_type": "markdown",
   "metadata": {},
   "source": [
    "I had 11 duplicates that have been removed"
   ]
  },
  {
   "cell_type": "code",
   "execution_count": 12,
   "metadata": {},
   "outputs": [
    {
     "data": {
      "text/plain": [
       "(205, 27)"
      ]
     },
     "execution_count": 12,
     "metadata": {},
     "output_type": "execute_result"
    }
   ],
   "source": [
    "# remove duplicate columns\n",
    "_, i = np.unique(df.columns, return_index=True)\n",
    "df=df.iloc[:, i]\n",
    "df.shape"
   ]
  },
  {
   "cell_type": "code",
   "execution_count": 13,
   "metadata": {
    "scrolled": true
   },
   "outputs": [
    {
     "data": {
      "text/html": [
       "<div>\n",
       "<style scoped>\n",
       "    .dataframe tbody tr th:only-of-type {\n",
       "        vertical-align: middle;\n",
       "    }\n",
       "\n",
       "    .dataframe tbody tr th {\n",
       "        vertical-align: top;\n",
       "    }\n",
       "\n",
       "    .dataframe thead th {\n",
       "        text-align: right;\n",
       "    }\n",
       "</style>\n",
       "<table border=\"1\" class=\"dataframe\">\n",
       "  <thead>\n",
       "    <tr style=\"text-align: right;\">\n",
       "      <th></th>\n",
       "      <th>aspiration</th>\n",
       "      <th>body_style</th>\n",
       "      <th>bore</th>\n",
       "      <th>city_mpg</th>\n",
       "      <th>compression_ratio</th>\n",
       "      <th>curb_weight</th>\n",
       "      <th>drive_wheels</th>\n",
       "      <th>engine_location</th>\n",
       "      <th>engine_size</th>\n",
       "      <th>engine_type</th>\n",
       "      <th>fuel_system</th>\n",
       "      <th>fuel_type</th>\n",
       "      <th>height</th>\n",
       "      <th>highway_mpg</th>\n",
       "      <th>horsepower</th>\n",
       "      <th>length</th>\n",
       "      <th>make</th>\n",
       "      <th>make_id</th>\n",
       "      <th>normalized_losses</th>\n",
       "      <th>num_of_cylinders</th>\n",
       "      <th>num_of_doors</th>\n",
       "      <th>peak_rpm</th>\n",
       "      <th>price</th>\n",
       "      <th>stroke</th>\n",
       "      <th>symboling</th>\n",
       "      <th>wheel_base</th>\n",
       "      <th>width</th>\n",
       "    </tr>\n",
       "  </thead>\n",
       "  <tbody>\n",
       "    <tr>\n",
       "      <th>0</th>\n",
       "      <td>std</td>\n",
       "      <td>convertible</td>\n",
       "      <td>3.47</td>\n",
       "      <td>21</td>\n",
       "      <td>9.0</td>\n",
       "      <td>2548</td>\n",
       "      <td>rwd</td>\n",
       "      <td>front</td>\n",
       "      <td>130</td>\n",
       "      <td>dohc</td>\n",
       "      <td>mpfi</td>\n",
       "      <td>gas</td>\n",
       "      <td>48.8</td>\n",
       "      <td>27</td>\n",
       "      <td>111.0</td>\n",
       "      <td>168.8</td>\n",
       "      <td>alfa-romero</td>\n",
       "      <td>1</td>\n",
       "      <td>NaN</td>\n",
       "      <td>four</td>\n",
       "      <td>two</td>\n",
       "      <td>5000.0</td>\n",
       "      <td>13495.0</td>\n",
       "      <td>2.68</td>\n",
       "      <td>3</td>\n",
       "      <td>88.6</td>\n",
       "      <td>64.1</td>\n",
       "    </tr>\n",
       "    <tr>\n",
       "      <th>1</th>\n",
       "      <td>std</td>\n",
       "      <td>convertible</td>\n",
       "      <td>3.47</td>\n",
       "      <td>21</td>\n",
       "      <td>9.0</td>\n",
       "      <td>2548</td>\n",
       "      <td>rwd</td>\n",
       "      <td>front</td>\n",
       "      <td>130</td>\n",
       "      <td>dohc</td>\n",
       "      <td>mpfi</td>\n",
       "      <td>gas</td>\n",
       "      <td>48.8</td>\n",
       "      <td>27</td>\n",
       "      <td>111.0</td>\n",
       "      <td>168.8</td>\n",
       "      <td>audi</td>\n",
       "      <td>1</td>\n",
       "      <td>NaN</td>\n",
       "      <td>four</td>\n",
       "      <td>two</td>\n",
       "      <td>5000.0</td>\n",
       "      <td>16500.0</td>\n",
       "      <td>2.68</td>\n",
       "      <td>3</td>\n",
       "      <td>88.6</td>\n",
       "      <td>64.1</td>\n",
       "    </tr>\n",
       "    <tr>\n",
       "      <th>2</th>\n",
       "      <td>std</td>\n",
       "      <td>hatchback</td>\n",
       "      <td>2.68</td>\n",
       "      <td>19</td>\n",
       "      <td>9.0</td>\n",
       "      <td>2823</td>\n",
       "      <td>rwd</td>\n",
       "      <td>front</td>\n",
       "      <td>152</td>\n",
       "      <td>ohcv</td>\n",
       "      <td>mpfi</td>\n",
       "      <td>gas</td>\n",
       "      <td>52.4</td>\n",
       "      <td>26</td>\n",
       "      <td>154.0</td>\n",
       "      <td>171.2</td>\n",
       "      <td>bmw</td>\n",
       "      <td>1</td>\n",
       "      <td>NaN</td>\n",
       "      <td>six</td>\n",
       "      <td>two</td>\n",
       "      <td>5000.0</td>\n",
       "      <td>16500.0</td>\n",
       "      <td>3.47</td>\n",
       "      <td>1</td>\n",
       "      <td>94.5</td>\n",
       "      <td>65.5</td>\n",
       "    </tr>\n",
       "    <tr>\n",
       "      <th>3</th>\n",
       "      <td>std</td>\n",
       "      <td>sedan</td>\n",
       "      <td>3.19</td>\n",
       "      <td>24</td>\n",
       "      <td>10.0</td>\n",
       "      <td>2337</td>\n",
       "      <td>fwd</td>\n",
       "      <td>front</td>\n",
       "      <td>109</td>\n",
       "      <td>ohc</td>\n",
       "      <td>mpfi</td>\n",
       "      <td>gas</td>\n",
       "      <td>54.3</td>\n",
       "      <td>30</td>\n",
       "      <td>102.0</td>\n",
       "      <td>176.6</td>\n",
       "      <td>chevrolet</td>\n",
       "      <td>2</td>\n",
       "      <td>164.0</td>\n",
       "      <td>four</td>\n",
       "      <td>four</td>\n",
       "      <td>5500.0</td>\n",
       "      <td>13950.0</td>\n",
       "      <td>3.40</td>\n",
       "      <td>2</td>\n",
       "      <td>99.8</td>\n",
       "      <td>66.2</td>\n",
       "    </tr>\n",
       "    <tr>\n",
       "      <th>4</th>\n",
       "      <td>std</td>\n",
       "      <td>sedan</td>\n",
       "      <td>3.19</td>\n",
       "      <td>18</td>\n",
       "      <td>8.0</td>\n",
       "      <td>2824</td>\n",
       "      <td>4wd</td>\n",
       "      <td>front</td>\n",
       "      <td>136</td>\n",
       "      <td>ohc</td>\n",
       "      <td>mpfi</td>\n",
       "      <td>gas</td>\n",
       "      <td>54.3</td>\n",
       "      <td>22</td>\n",
       "      <td>115.0</td>\n",
       "      <td>176.6</td>\n",
       "      <td>dodge</td>\n",
       "      <td>2</td>\n",
       "      <td>164.0</td>\n",
       "      <td>five</td>\n",
       "      <td>four</td>\n",
       "      <td>5500.0</td>\n",
       "      <td>17450.0</td>\n",
       "      <td>3.40</td>\n",
       "      <td>2</td>\n",
       "      <td>99.4</td>\n",
       "      <td>66.4</td>\n",
       "    </tr>\n",
       "  </tbody>\n",
       "</table>\n",
       "</div>"
      ],
      "text/plain": [
       "  aspiration   body_style  bore  city_mpg  compression_ratio  curb_weight  \\\n",
       "0        std  convertible  3.47        21                9.0         2548   \n",
       "1        std  convertible  3.47        21                9.0         2548   \n",
       "2        std    hatchback  2.68        19                9.0         2823   \n",
       "3        std        sedan  3.19        24               10.0         2337   \n",
       "4        std        sedan  3.19        18                8.0         2824   \n",
       "\n",
       "  drive_wheels engine_location  engine_size engine_type fuel_system fuel_type  \\\n",
       "0          rwd           front          130        dohc        mpfi       gas   \n",
       "1          rwd           front          130        dohc        mpfi       gas   \n",
       "2          rwd           front          152        ohcv        mpfi       gas   \n",
       "3          fwd           front          109         ohc        mpfi       gas   \n",
       "4          4wd           front          136         ohc        mpfi       gas   \n",
       "\n",
       "   height  highway_mpg  horsepower  length           make  make_id  \\\n",
       "0    48.8           27       111.0   168.8  alfa-romero          1   \n",
       "1    48.8           27       111.0   168.8         audi          1   \n",
       "2    52.4           26       154.0   171.2          bmw          1   \n",
       "3    54.3           30       102.0   176.6    chevrolet          2   \n",
       "4    54.3           22       115.0   176.6        dodge          2   \n",
       "\n",
       "   normalized_losses num_of_cylinders num_of_doors  peak_rpm    price  stroke  \\\n",
       "0                NaN             four          two    5000.0  13495.0    2.68   \n",
       "1                NaN             four          two    5000.0  16500.0    2.68   \n",
       "2                NaN              six          two    5000.0  16500.0    3.47   \n",
       "3              164.0             four         four    5500.0  13950.0    3.40   \n",
       "4              164.0             five         four    5500.0  17450.0    3.40   \n",
       "\n",
       "   symboling  wheel_base  width  \n",
       "0          3        88.6   64.1  \n",
       "1          3        88.6   64.1  \n",
       "2          1        94.5   65.5  \n",
       "3          2        99.8   66.2  \n",
       "4          2        99.4   66.4  "
      ]
     },
     "execution_count": 13,
     "metadata": {},
     "output_type": "execute_result"
    }
   ],
   "source": [
    "df.head()"
   ]
  },
  {
   "cell_type": "markdown",
   "metadata": {},
   "source": [
    "#### 4. Types of Variables"
   ]
  },
  {
   "cell_type": "code",
   "execution_count": 14,
   "metadata": {},
   "outputs": [
    {
     "data": {
      "text/plain": [
       "aspiration            object\n",
       "body_style            object\n",
       "bore                 float64\n",
       "city_mpg               int64\n",
       "compression_ratio    float64\n",
       "curb_weight            int64\n",
       "drive_wheels          object\n",
       "engine_location       object\n",
       "engine_size            int64\n",
       "engine_type           object\n",
       "fuel_system           object\n",
       "fuel_type             object\n",
       "height               float64\n",
       "highway_mpg            int64\n",
       "horsepower           float64\n",
       "length               float64\n",
       "make                  object\n",
       "make_id                int64\n",
       "normalized_losses    float64\n",
       "num_of_cylinders      object\n",
       "num_of_doors          object\n",
       "peak_rpm             float64\n",
       "price                float64\n",
       "stroke               float64\n",
       "symboling              int64\n",
       "wheel_base           float64\n",
       "width                float64\n",
       "dtype: object"
      ]
     },
     "execution_count": 14,
     "metadata": {},
     "output_type": "execute_result"
    }
   ],
   "source": [
    "# let's inspect the type of variables in pandas\n",
    "df.dtypes"
   ]
  },
  {
   "cell_type": "markdown",
   "metadata": {},
   "source": [
    "There are a mixture of numerical and categorical variables. Normally object type determines categorical. "
   ]
  },
  {
   "cell_type": "markdown",
   "metadata": {},
   "source": [
    "#### 4.1 Find categorical variables"
   ]
  },
  {
   "cell_type": "code",
   "execution_count": 15,
   "metadata": {},
   "outputs": [
    {
     "name": "stdout",
     "output_type": "stream",
     "text": [
      "There are 10 categorical variables\n"
     ]
    },
    {
     "data": {
      "text/plain": [
       "['aspiration',\n",
       " 'body_style',\n",
       " 'drive_wheels',\n",
       " 'engine_location',\n",
       " 'engine_type',\n",
       " 'fuel_system',\n",
       " 'fuel_type',\n",
       " 'make',\n",
       " 'num_of_cylinders',\n",
       " 'num_of_doors']"
      ]
     },
     "execution_count": 15,
     "metadata": {},
     "output_type": "execute_result"
    }
   ],
   "source": [
    "# find categorical variables\n",
    "categorical = [var for var in df.columns if df[var].dtype=='O']\n",
    "print('There are {} categorical variables'.format(len(categorical)))\n",
    "categorical"
   ]
  },
  {
   "cell_type": "markdown",
   "metadata": {},
   "source": [
    "#### 4.2 Find temporal variables"
   ]
  },
  {
   "cell_type": "code",
   "execution_count": 16,
   "metadata": {},
   "outputs": [
    {
     "name": "stdout",
     "output_type": "stream",
     "text": [
      "There are 0 temporal variables\n"
     ]
    },
    {
     "data": {
      "text/plain": [
       "[]"
      ]
     },
     "execution_count": 16,
     "metadata": {},
     "output_type": "execute_result"
    }
   ],
   "source": [
    "# make a list of the numerical variables first\n",
    "numerical = [var for var in df.columns if df[var].dtype!='O']\n",
    "\n",
    "# list of variables that contain year information\n",
    "year_vars = [var for var in numerical if 'Yr' in var or 'Year' in var or 'Day'in var or 'Month'in var or 'Time'in var]\n",
    "print('There are {} temporal variables'.format(len(year_vars)))\n",
    "\n",
    "\n",
    "year_vars"
   ]
  },
  {
   "cell_type": "markdown",
   "metadata": {},
   "source": [
    "No temporal variables"
   ]
  },
  {
   "cell_type": "markdown",
   "metadata": {},
   "source": [
    "#### 4.3 Find Discrete Varibles"
   ]
  },
  {
   "cell_type": "code",
   "execution_count": 17,
   "metadata": {},
   "outputs": [
    {
     "name": "stdout",
     "output_type": "stream",
     "text": [
      "symboling  values:  [ 3  1  2  0 -1 -2]\n",
      "\n",
      "There are 1 discrete variables\n"
     ]
    },
    {
     "data": {
      "text/plain": [
       "['symboling']"
      ]
     },
     "execution_count": 17,
     "metadata": {},
     "output_type": "execute_result"
    }
   ],
   "source": [
    "# let's visualise the values of the discrete variables\n",
    "discrete = []\n",
    "\n",
    "for var in numerical:\n",
    "    if len(df[var].unique())<20 and var not in year_vars:\n",
    "        print(var, ' values: ', df[var].unique())\n",
    "        discrete.append(var)\n",
    "print()\n",
    "print('There are {} discrete variables'.format(len(discrete)))\n",
    "discrete"
   ]
  },
  {
   "cell_type": "code",
   "execution_count": 18,
   "metadata": {},
   "outputs": [
    {
     "name": "stdout",
     "output_type": "stream",
     "text": [
      "There are 16 numerical and continuous variables\n"
     ]
    },
    {
     "data": {
      "text/plain": [
       "['bore',\n",
       " 'city_mpg',\n",
       " 'compression_ratio',\n",
       " 'curb_weight',\n",
       " 'engine_size',\n",
       " 'height',\n",
       " 'highway_mpg',\n",
       " 'horsepower',\n",
       " 'length',\n",
       " 'make_id',\n",
       " 'normalized_losses',\n",
       " 'peak_rpm',\n",
       " 'price',\n",
       " 'stroke',\n",
       " 'wheel_base',\n",
       " 'width']"
      ]
     },
     "execution_count": 18,
     "metadata": {},
     "output_type": "execute_result"
    }
   ],
   "source": [
    "### Find Continuous\n",
    "# let's remember to skip the Id variable and the target variable SalePrice, which are both also numerical\n",
    "\n",
    "numerical = [var for var in numerical if var not in discrete and var not in ['Id', 'SalePrice'] and var not in year_vars]\n",
    "print('There are {} numerical and continuous variables'.format(len(numerical)))\n",
    "numerical"
   ]
  },
  {
   "cell_type": "markdown",
   "metadata": {},
   "source": [
    "SO there are: \n",
    "\n",
    "- 1 discrete variables \n",
    "- 10 categorical \n",
    "- 0 temporal\n",
    "- 16 continuous\n"
   ]
  },
  {
   "cell_type": "markdown",
   "metadata": {},
   "source": [
    "#### 5.Types of problems within variables\n",
    "\n",
    "#### 5.1 Missing values"
   ]
  },
  {
   "cell_type": "markdown",
   "metadata": {},
   "source": [
    "I have very few missing values in general, except for the 'normalized-losses'and 'make'columns"
   ]
  },
  {
   "cell_type": "code",
   "execution_count": 19,
   "metadata": {},
   "outputs": [
    {
     "name": "stdout",
     "output_type": "stream",
     "text": [
      "Total variables that contain missing information:  8\n"
     ]
    }
   ],
   "source": [
    "# let's no determine how many variables we have with missing information\n",
    "\n",
    "vars_with_na = [var for var in df.columns if df[var].isnull().sum()>0]\n",
    "print('Total variables that contain missing information: ', len(vars_with_na))"
   ]
  },
  {
   "cell_type": "markdown",
   "metadata": {},
   "source": [
    "There are a few variables with a lot of missing information, let's find out what kind of variables they are"
   ]
  },
  {
   "cell_type": "code",
   "execution_count": 20,
   "metadata": {},
   "outputs": [
    {
     "name": "stdout",
     "output_type": "stream",
     "text": [
      "make ['alfa-romero  ' 'audi  ' 'bmw  ' 'chevrolet  ' 'dodge  ' 'honda  '\n",
      " 'isuzu  ' 'jaguar  ' 'mazda  ' 'mercedes-benz  ' 'mercury  '\n",
      " 'mitsubishi  ' 'nissan  ' 'peugot  ' 'plymouth  ' 'porsche  ' 'renault  '\n",
      " 'saab  ' 'subaru  ' 'toyota  ' 'volkswagen  ' 'volvo ' nan]\n"
     ]
    }
   ],
   "source": [
    "# let's inspect the type of those variables with a lot of missing information\n",
    "for var in df.columns:\n",
    "    if df[var].isnull().mean()>0.80:\n",
    "        print(var, df[var].unique())"
   ]
  },
  {
   "cell_type": "code",
   "execution_count": 21,
   "metadata": {},
   "outputs": [
    {
     "name": "stdout",
     "output_type": "stream",
     "text": [
      "bore 0.01951219512195122\n",
      "horsepower 0.00975609756097561\n",
      "make 0.8926829268292683\n",
      "normalized_losses 0.2\n",
      "num_of_doors 0.00975609756097561\n",
      "peak_rpm 0.00975609756097561\n",
      "price 0.01951219512195122\n",
      "stroke 0.01951219512195122\n"
     ]
    }
   ],
   "source": [
    "# let's visualise the percentage of missing values for each variable\n",
    "for var in df.columns:\n",
    "    if df[var].isnull().sum()>0:\n",
    "        print(var, df[var].isnull().mean())"
   ]
  },
  {
   "cell_type": "markdown",
   "metadata": {},
   "source": [
    "One variable with more than 80% missing values, it's categorical"
   ]
  },
  {
   "cell_type": "markdown",
   "metadata": {},
   "source": [
    "#### 5.2 Outliers\n",
    "\n",
    "#### 5.2.1 Start with numerical continuous"
   ]
  },
  {
   "cell_type": "code",
   "execution_count": 22,
   "metadata": {},
   "outputs": [
    {
     "data": {
      "text/plain": [
       "['bore',\n",
       " 'city_mpg',\n",
       " 'compression_ratio',\n",
       " 'curb_weight',\n",
       " 'engine_size',\n",
       " 'height',\n",
       " 'highway_mpg',\n",
       " 'horsepower',\n",
       " 'length',\n",
       " 'make_id',\n",
       " 'normalized_losses',\n",
       " 'peak_rpm',\n",
       " 'price',\n",
       " 'stroke',\n",
       " 'wheel_base',\n",
       " 'width']"
      ]
     },
     "execution_count": 22,
     "metadata": {},
     "output_type": "execute_result"
    }
   ],
   "source": [
    "# let's look at the numerical variables\n",
    "numerical"
   ]
  },
  {
   "cell_type": "markdown",
   "metadata": {},
   "source": [
    "The only real continuous numerical variable is DepDelay, the others are discrete or categorical (ID)"
   ]
  },
  {
   "cell_type": "markdown",
   "metadata": {},
   "source": [
    "#### 5.2.2 Continue with discrete variables"
   ]
  },
  {
   "cell_type": "markdown",
   "metadata": {},
   "source": [
    "We know discrete varibles are: \n",
    "\n",
    "     - Symboling\n",
    "    \n",
    "    Actually, looking at the dataset, we can see antoher discrete variable (with more than 20 values)\n",
    "    \n",
    "    - make_id"
   ]
  },
  {
   "cell_type": "code",
   "execution_count": 23,
   "metadata": {},
   "outputs": [],
   "source": [
    "discrete = ['symboling','make_id']"
   ]
  },
  {
   "cell_type": "code",
   "execution_count": 24,
   "metadata": {},
   "outputs": [
    {
     "data": {
      "image/png": "[encoded data removed]",
      "text/plain": [
       "<Figure size 432x288 with 1 Axes>"
      ]
     },
     "metadata": {
      "needs_background": "light"
     },
     "output_type": "display_data"
    },
    {
     "name": "stdout",
     "output_type": "stream",
     "text": [
      "\n"
     ]
    },
    {
     "data": {
      "image/png": "[encoded data removed]",
      "text/plain": [
       "<Figure size 432x288 with 1 Axes>"
      ]
     },
     "metadata": {
      "needs_background": "light"
     },
     "output_type": "display_data"
    },
    {
     "name": "stdout",
     "output_type": "stream",
     "text": [
      "\n"
     ]
    }
   ],
   "source": [
    "# outlies in discrete variables\n",
    "for var in discrete:\n",
    "    (df.groupby(var)[var].count() / np.float(len(df))).plot.bar()\n",
    "    plt.ylabel('Percentage of observations per label')\n",
    "    plt.title(var)\n",
    "    plt.show()\n",
    "    #print(data[var].value_counts() / np.float(len(data)))\n",
    "    print()"
   ]
  },
  {
   "cell_type": "markdown",
   "metadata": {},
   "source": [
    "#### 5.2.3 Number of labels: Cardinality"
   ]
  },
  {
   "cell_type": "code",
   "execution_count": 25,
   "metadata": {},
   "outputs": [
    {
     "data": {
      "text/plain": [
       "Text(0, 0.5, 'Number of different categories')"
      ]
     },
     "execution_count": 25,
     "metadata": {},
     "output_type": "execute_result"
    },
    {
     "data": {
      "image/png": "[encoded data removed]",
      "text/plain": [
       "<Figure size 864x576 with 1 Axes>"
      ]
     },
     "metadata": {
      "needs_background": "light"
     },
     "output_type": "display_data"
    }
   ],
   "source": [
    "no_labels_ls = []\n",
    "for var in categorical:\n",
    "    no_labels_ls.append(len(df[var].unique()))\n",
    "    \n",
    " \n",
    "tmp = pd.Series(no_labels_ls)\n",
    "tmp.index = pd.Series(categorical)\n",
    "tmp.plot.bar(figsize=(12,8))\n",
    "plt.title('Number of categories in categorical variables')\n",
    "plt.xlabel('Categorical variables')\n",
    "plt.ylabel('Number of different categories')"
   ]
  },
  {
   "cell_type": "markdown",
   "metadata": {},
   "source": [
    "Most of them have a few variables, except for make"
   ]
  },
  {
   "cell_type": "markdown",
   "metadata": {},
   "source": [
    "**5.2.4 Outliers in Continuous**"
   ]
  },
  {
   "cell_type": "markdown",
   "metadata": {},
   "source": [
    "To be seen later"
   ]
  },
  {
   "cell_type": "markdown",
   "metadata": {},
   "source": [
    "####  6. Split into train and test sets"
   ]
  },
  {
   "cell_type": "code",
   "execution_count": 26,
   "metadata": {},
   "outputs": [
    {
     "data": {
      "text/plain": [
       "((174, 27), (31, 27))"
      ]
     },
     "execution_count": 26,
     "metadata": {},
     "output_type": "execute_result"
    }
   ],
   "source": [
    "# Let's separate into train and test set\n",
    "\n",
    "X_train, X_test, y_train, y_test = train_test_split(df, df.price, test_size=0.15,\n",
    "                                                    random_state=0)\n",
    "X_train.shape, X_test.shape"
   ]
  },
  {
   "cell_type": "markdown",
   "metadata": {},
   "source": [
    "## Part II: Feature engineering\n",
    "\n",
    "### 7. Engineering missing values\n",
    "\n",
    "**7.1 Continuous variables**"
   ]
  },
  {
   "cell_type": "code",
   "execution_count": 27,
   "metadata": {},
   "outputs": [
    {
     "name": "stdout",
     "output_type": "stream",
     "text": [
      "bore 0.017241379310344827\n",
      "normalized_losses 0.1839080459770115\n",
      "price 0.011494252873563218\n",
      "stroke 0.017241379310344827\n"
     ]
    }
   ],
   "source": [
    "# print variables with missing data\n",
    "# keep in mind that now that we created those new temporal variables, we\n",
    "# are going to treat them as numerical and continuous as well:\n",
    "\n",
    "\n",
    "# examine percentage of missing values\n",
    "for col in numerical+year_vars:\n",
    "    if X_train[col].isnull().mean()>0:\n",
    "        print(col, X_train[col].isnull().mean())"
   ]
  },
  {
   "cell_type": "markdown",
   "metadata": {},
   "source": [
    "**Bore, stroke, price** and stroke missing values are less than 5%: median imputation\n",
    "\n",
    "**normalized losses** missing values are more than 5%: additional variable to capture NA + median imputation    "
   ]
  },
  {
   "cell_type": "code",
   "execution_count": 28,
   "metadata": {},
   "outputs": [],
   "source": [
    "# add variable indicating missingness + median imputation\n",
    "for df in [X_train, X_test]:\n",
    "    for var in ['normalized_losses']:\n",
    "        df[var+'_NA'] = np.where(df[var].isnull(), 1, 0)\n",
    "        df[var].fillna(X_train[var].median(), inplace=True) \n",
    "\n",
    "for df in [X_train, X_test]:\n",
    "    df['normalized_losses'].fillna(X_train['normalized_losses'].median(), inplace=True)\n",
    "    df['price'].fillna(X_train.price.median(), inplace=True)\n",
    "    df['stroke'].fillna(X_train.stroke.median(), inplace=True)\n",
    "\n",
    "\n",
    "    \n",
    "    "
   ]
  },
  {
   "cell_type": "markdown",
   "metadata": {},
   "source": [
    "**7.2 Discrete variables**"
   ]
  },
  {
   "cell_type": "code",
   "execution_count": 29,
   "metadata": {},
   "outputs": [
    {
     "name": "stdout",
     "output_type": "stream",
     "text": [
      "['symboling', 'make_id']\n",
      "['symboling', 'make_id']\n"
     ]
    }
   ],
   "source": [
    "# print variables with missing data\n",
    "for col in discrete:\n",
    "    if X_train[col].isnull().mean()>0:\n",
    "        print(col, X_train[col].isnull().mean())\n",
    "    print(discrete)"
   ]
  },
  {
   "cell_type": "markdown",
   "metadata": {},
   "source": [
    "There are no discrete variables variables with missing data\n",
    "\n"
   ]
  },
  {
   "cell_type": "markdown",
   "metadata": {},
   "source": [
    "#### 7.3 Engineering Missing data in Categorical Variables"
   ]
  },
  {
   "cell_type": "code",
   "execution_count": 30,
   "metadata": {},
   "outputs": [
    {
     "name": "stdout",
     "output_type": "stream",
     "text": [
      "make 0.896551724137931\n",
      "num_of_doors 0.011494252873563218\n"
     ]
    }
   ],
   "source": [
    "# print variables with missing data\n",
    "for col in categorical:\n",
    "    if X_train[col].isnull().mean()>0:\n",
    "        print(col, X_train[col].isnull().mean())"
   ]
  },
  {
   "cell_type": "code",
   "execution_count": 31,
   "metadata": {},
   "outputs": [
    {
     "data": {
      "text/html": [
       "<div>\n",
       "<style scoped>\n",
       "    .dataframe tbody tr th:only-of-type {\n",
       "        vertical-align: middle;\n",
       "    }\n",
       "\n",
       "    .dataframe tbody tr th {\n",
       "        vertical-align: top;\n",
       "    }\n",
       "\n",
       "    .dataframe thead th {\n",
       "        text-align: right;\n",
       "    }\n",
       "</style>\n",
       "<table border=\"1\" class=\"dataframe\">\n",
       "  <thead>\n",
       "    <tr style=\"text-align: right;\">\n",
       "      <th></th>\n",
       "      <th>aspiration</th>\n",
       "      <th>body_style</th>\n",
       "      <th>drive_wheels</th>\n",
       "      <th>engine_location</th>\n",
       "      <th>engine_type</th>\n",
       "      <th>fuel_system</th>\n",
       "      <th>fuel_type</th>\n",
       "      <th>make</th>\n",
       "      <th>num_of_cylinders</th>\n",
       "      <th>num_of_doors</th>\n",
       "    </tr>\n",
       "  </thead>\n",
       "  <tbody>\n",
       "    <tr>\n",
       "      <th>193</th>\n",
       "      <td>std</td>\n",
       "      <td>wagon</td>\n",
       "      <td>fwd</td>\n",
       "      <td>front</td>\n",
       "      <td>ohc</td>\n",
       "      <td>mpfi</td>\n",
       "      <td>gas</td>\n",
       "      <td>NaN</td>\n",
       "      <td>four</td>\n",
       "      <td>four</td>\n",
       "    </tr>\n",
       "    <tr>\n",
       "      <th>125</th>\n",
       "      <td>std</td>\n",
       "      <td>hatchback</td>\n",
       "      <td>rwd</td>\n",
       "      <td>front</td>\n",
       "      <td>ohc</td>\n",
       "      <td>mpfi</td>\n",
       "      <td>gas</td>\n",
       "      <td>NaN</td>\n",
       "      <td>four</td>\n",
       "      <td>two</td>\n",
       "    </tr>\n",
       "    <tr>\n",
       "      <th>173</th>\n",
       "      <td>std</td>\n",
       "      <td>sedan</td>\n",
       "      <td>fwd</td>\n",
       "      <td>front</td>\n",
       "      <td>ohc</td>\n",
       "      <td>mpfi</td>\n",
       "      <td>gas</td>\n",
       "      <td>NaN</td>\n",
       "      <td>four</td>\n",
       "      <td>four</td>\n",
       "    </tr>\n",
       "    <tr>\n",
       "      <th>92</th>\n",
       "      <td>std</td>\n",
       "      <td>sedan</td>\n",
       "      <td>fwd</td>\n",
       "      <td>front</td>\n",
       "      <td>ohc</td>\n",
       "      <td>2bbl</td>\n",
       "      <td>gas</td>\n",
       "      <td>NaN</td>\n",
       "      <td>four</td>\n",
       "      <td>four</td>\n",
       "    </tr>\n",
       "    <tr>\n",
       "      <th>16</th>\n",
       "      <td>std</td>\n",
       "      <td>sedan</td>\n",
       "      <td>rwd</td>\n",
       "      <td>front</td>\n",
       "      <td>ohc</td>\n",
       "      <td>mpfi</td>\n",
       "      <td>gas</td>\n",
       "      <td>renault</td>\n",
       "      <td>six</td>\n",
       "      <td>two</td>\n",
       "    </tr>\n",
       "  </tbody>\n",
       "</table>\n",
       "</div>"
      ],
      "text/plain": [
       "    aspiration body_style drive_wheels engine_location engine_type  \\\n",
       "193        std      wagon          fwd           front         ohc   \n",
       "125        std  hatchback          rwd           front         ohc   \n",
       "173        std      sedan          fwd           front         ohc   \n",
       "92         std      sedan          fwd           front         ohc   \n",
       "16         std      sedan          rwd           front         ohc   \n",
       "\n",
       "    fuel_system fuel_type       make num_of_cylinders num_of_doors  \n",
       "193        mpfi       gas        NaN             four         four  \n",
       "125        mpfi       gas        NaN             four          two  \n",
       "173        mpfi       gas        NaN             four         four  \n",
       "92         2bbl       gas        NaN             four         four  \n",
       "16         mpfi       gas  renault                six          two  "
      ]
     },
     "execution_count": 31,
     "metadata": {},
     "output_type": "execute_result"
    }
   ],
   "source": [
    "X_train[categorical].head()"
   ]
  },
  {
   "cell_type": "markdown",
   "metadata": {},
   "source": [
    "For the 'make'variable, I have over 89% of missing values. I shall delete this variable.\n",
    "\n",
    "As for 'num-of-doors', missing values are less than 5%, so I shall replace them with the most frequent category"
   ]
  },
  {
   "cell_type": "code",
   "execution_count": 32,
   "metadata": {},
   "outputs": [],
   "source": [
    "#remove 'make'\n",
    "X_train = X_train.drop('make', axis = 1)\n",
    "X_test = X_test.drop('make', axis = 1)\n"
   ]
  },
  {
   "cell_type": "code",
   "execution_count": 33,
   "metadata": {},
   "outputs": [
    {
     "data": {
      "text/plain": [
       "'four'"
      ]
     },
     "execution_count": 33,
     "metadata": {},
     "output_type": "execute_result"
    }
   ],
   "source": [
    "# find most frequent category in 'num-of-doors'\n",
    "X_train.groupby(['num_of_doors'])['num_of_doors'].count().sort_values(ascending=False).index[0]"
   ]
  },
  {
   "cell_type": "code",
   "execution_count": 34,
   "metadata": {},
   "outputs": [],
   "source": [
    "# let's create a variable to replace NA with the most frequent label\n",
    "# both in train and test set\n",
    "\n",
    "def impute_na(df_train, df_test, variable):\n",
    "    most_frequent_category = df_train.groupby([variable])[variable].count().sort_values(ascending=False).index[0]\n",
    "    df_train[variable].fillna(most_frequent_category, inplace=True)\n",
    "    df_test[variable].fillna(most_frequent_category, inplace=True)"
   ]
  },
  {
   "cell_type": "code",
   "execution_count": 35,
   "metadata": {},
   "outputs": [],
   "source": [
    "# and let's replace the NA\n",
    "for variable in ['num_of_doors',]:\n",
    "    impute_na(X_train, X_test, variable)"
   ]
  },
  {
   "cell_type": "markdown",
   "metadata": {},
   "source": [
    "Finally let's check I have no more nulls"
   ]
  },
  {
   "cell_type": "code",
   "execution_count": 36,
   "metadata": {},
   "outputs": [
    {
     "name": "stdout",
     "output_type": "stream",
     "text": [
      "bore 3\n"
     ]
    }
   ],
   "source": [
    "# check absence of null values\n",
    "for var in X_train.columns:\n",
    "    if X_train[var].isnull().sum()>0:\n",
    "        print(var, X_train[var].isnull().sum())"
   ]
  },
  {
   "cell_type": "code",
   "execution_count": 37,
   "metadata": {
    "scrolled": true
   },
   "outputs": [
    {
     "name": "stdout",
     "output_type": "stream",
     "text": [
      "bore 3\n",
      "horsepower 0\n",
      "peak_rpm 0\n"
     ]
    }
   ],
   "source": [
    "# check absence of null values\n",
    "for var in X_test.columns:\n",
    "    if X_test[var].isnull().sum()>0:\n",
    "        print(var, X_train[var].isnull().sum())"
   ]
  },
  {
   "cell_type": "markdown",
   "metadata": {},
   "source": [
    "These are variables with null on the test set and not in the training set. I shall fill NA with median value"
   ]
  },
  {
   "cell_type": "code",
   "execution_count": 38,
   "metadata": {},
   "outputs": [
    {
     "data": {
      "text/plain": [
       "68.0"
      ]
     },
     "execution_count": 38,
     "metadata": {},
     "output_type": "execute_result"
    }
   ],
   "source": [
    "## find most frequent category in 'horsepower'\n",
    "X_train.groupby(['horsepower'])['horsepower'].count().sort_values(ascending=False).index[0]"
   ]
  },
  {
   "cell_type": "code",
   "execution_count": 39,
   "metadata": {},
   "outputs": [
    {
     "data": {
      "text/plain": [
       "5500.0"
      ]
     },
     "execution_count": 39,
     "metadata": {},
     "output_type": "execute_result"
    }
   ],
   "source": [
    "## find most frequent category in 'peak-rpm'\n",
    "X_train.groupby(['peak_rpm'])['peak_rpm'].count().sort_values(ascending=False).index[0]"
   ]
  },
  {
   "cell_type": "code",
   "execution_count": 40,
   "metadata": {},
   "outputs": [
    {
     "data": {
      "text/plain": [
       "3.62"
      ]
     },
     "execution_count": 40,
     "metadata": {},
     "output_type": "execute_result"
    }
   ],
   "source": [
    "## find most frequent category in 'peak-rpm'\n",
    "X_train.groupby(['bore'])['bore'].count().sort_values(ascending=False).index[0]"
   ]
  },
  {
   "cell_type": "code",
   "execution_count": 41,
   "metadata": {},
   "outputs": [],
   "source": [
    "X_test['horsepower'].fillna(68, inplace = True)\n",
    "X_test['peak_rpm'].fillna(5500, inplace = True)\n",
    "X_test['bore'].fillna(3.62, inplace = True)\n",
    "X_train['bore'].fillna(3.62, inplace = True)\n",
    "\n",
    "\n"
   ]
  },
  {
   "cell_type": "code",
   "execution_count": 42,
   "metadata": {},
   "outputs": [],
   "source": [
    "# check absence of null values\n",
    "for var in X_train.columns:\n",
    "    if X_train[var].isnull().sum()>0:\n",
    "        print(var, X_train[var].isnull().sum())"
   ]
  },
  {
   "cell_type": "code",
   "execution_count": 43,
   "metadata": {},
   "outputs": [],
   "source": [
    "# check absence of null values\n",
    "for var in X_test.columns:\n",
    "    if X_test[var].isnull().sum()>0:\n",
    "        print(var, X_test[var].isnull().sum())"
   ]
  },
  {
   "cell_type": "code",
   "execution_count": 44,
   "metadata": {},
   "outputs": [
    {
     "data": {
      "text/plain": [
       "aspiration              0\n",
       "body_style              0\n",
       "bore                    0\n",
       "city_mpg                0\n",
       "compression_ratio       0\n",
       "curb_weight             0\n",
       "drive_wheels            0\n",
       "engine_location         0\n",
       "engine_size             0\n",
       "engine_type             0\n",
       "fuel_system             0\n",
       "fuel_type               0\n",
       "height                  0\n",
       "highway_mpg             0\n",
       "horsepower              0\n",
       "length                  0\n",
       "make_id                 0\n",
       "normalized_losses       0\n",
       "num_of_cylinders        0\n",
       "num_of_doors            0\n",
       "peak_rpm                0\n",
       "price                   0\n",
       "stroke                  0\n",
       "symboling               0\n",
       "wheel_base              0\n",
       "width                   0\n",
       "normalized_losses_NA    0\n",
       "dtype: int64"
      ]
     },
     "execution_count": 44,
     "metadata": {},
     "output_type": "execute_result"
    }
   ],
   "source": [
    "X_train.isnull().sum()"
   ]
  },
  {
   "cell_type": "code",
   "execution_count": 45,
   "metadata": {},
   "outputs": [
    {
     "data": {
      "text/plain": [
       "aspiration              0\n",
       "body_style              0\n",
       "bore                    0\n",
       "city_mpg                0\n",
       "compression_ratio       0\n",
       "curb_weight             0\n",
       "drive_wheels            0\n",
       "engine_location         0\n",
       "engine_size             0\n",
       "engine_type             0\n",
       "fuel_system             0\n",
       "fuel_type               0\n",
       "height                  0\n",
       "highway_mpg             0\n",
       "horsepower              0\n",
       "length                  0\n",
       "make_id                 0\n",
       "normalized_losses       0\n",
       "num_of_cylinders        0\n",
       "num_of_doors            0\n",
       "peak_rpm                0\n",
       "price                   0\n",
       "stroke                  0\n",
       "symboling               0\n",
       "wheel_base              0\n",
       "width                   0\n",
       "normalized_losses_NA    0\n",
       "dtype: int64"
      ]
     },
     "execution_count": 45,
     "metadata": {},
     "output_type": "execute_result"
    }
   ],
   "source": [
    "X_test.isnull().sum()"
   ]
  },
  {
   "cell_type": "markdown",
   "metadata": {},
   "source": [
    "Well done! I have no more NA in the variables."
   ]
  },
  {
   "cell_type": "markdown",
   "metadata": {},
   "source": [
    "### 8. Outlier engineering\n",
    "\n",
    "#### 8.1 Outlier identification and strategy setting\n"
   ]
  },
  {
   "cell_type": "code",
   "execution_count": 46,
   "metadata": {},
   "outputs": [
    {
     "data": {
      "text/plain": [
       "['bore',\n",
       " 'city_mpg',\n",
       " 'compression_ratio',\n",
       " 'curb_weight',\n",
       " 'engine_size',\n",
       " 'height',\n",
       " 'highway_mpg',\n",
       " 'horsepower',\n",
       " 'length',\n",
       " 'make_id',\n",
       " 'normalized_losses',\n",
       " 'peak_rpm',\n",
       " 'price',\n",
       " 'stroke',\n",
       " 'wheel_base',\n",
       " 'width']"
      ]
     },
     "execution_count": 46,
     "metadata": {},
     "output_type": "execute_result"
    }
   ],
   "source": [
    "numerical"
   ]
  },
  {
   "cell_type": "code",
   "execution_count": 47,
   "metadata": {},
   "outputs": [],
   "source": [
    "# Note I remove the price as it is the target\n",
    "numerical = ['bore',\n",
    " 'city_mpg',\n",
    " 'compression_ratio',\n",
    " 'curb_weight',\n",
    " 'engine_size',\n",
    " 'height',\n",
    " 'highway_mpg',\n",
    " 'horsepower',\n",
    " 'length',\n",
    " 'make_id',\n",
    " 'normalized_losses',\n",
    " 'peak_rpm',\n",
    " 'stroke',\n",
    " 'wheel_base',\n",
    " 'width']"
   ]
  },
  {
   "cell_type": "code",
   "execution_count": 48,
   "metadata": {},
   "outputs": [
    {
     "data": {
      "image/png": "[encoded data removed]",
      "text/plain": [
       "<Figure size 1080x432 with 1 Axes>"
      ]
     },
     "metadata": {
      "needs_background": "light"
     },
     "output_type": "display_data"
    },
    {
     "data": {
      "image/png": "[encoded data removed]",
      "text/plain": [
       "<Figure size 1080x432 with 1 Axes>"
      ]
     },
     "metadata": {
      "needs_background": "light"
     },
     "output_type": "display_data"
    },
    {
     "data": {
      "image/png": "[encoded data removed]",
      "text/plain": [
       "<Figure size 1080x432 with 1 Axes>"
      ]
     },
     "metadata": {
      "needs_background": "light"
     },
     "output_type": "display_data"
    },
    {
     "data": {
      "image/png": "[encoded data removed]",
      "text/plain": [
       "<Figure size 1080x432 with 1 Axes>"
      ]
     },
     "metadata": {
      "needs_background": "light"
     },
     "output_type": "display_data"
    },
    {
     "data": {
      "image/png": "[encoded data removed]",
      "text/plain": [
       "<Figure size 1080x432 with 1 Axes>"
      ]
     },
     "metadata": {
      "needs_background": "light"
     },
     "output_type": "display_data"
    },
    {
     "data": {
      "image/png": "[encoded data removed]",
      "text/plain": [
       "<Figure size 1080x432 with 1 Axes>"
      ]
     },
     "metadata": {
      "needs_background": "light"
     },
     "output_type": "display_data"
    },
    {
     "data": {
      "image/png": "[encoded data removed]",
      "text/plain": [
       "<Figure size 1080x432 with 1 Axes>"
      ]
     },
     "metadata": {
      "needs_background": "light"
     },
     "output_type": "display_data"
    },
    {
     "data": {
      "image/png": "[encoded data removed]",
      "text/plain": [
       "<Figure size 1080x432 with 1 Axes>"
      ]
     },
     "metadata": {
      "needs_background": "light"
     },
     "output_type": "display_data"
    },
    {
     "data": {
      "image/png": "[encoded data removed]",
      "text/plain": [
       "<Figure size 1080x432 with 1 Axes>"
      ]
     },
     "metadata": {
      "needs_background": "light"
     },
     "output_type": "display_data"
    },
    {
     "data": {
      "image/png": "[encoded data removed]",
      "text/plain": [
       "<Figure size 1080x432 with 1 Axes>"
      ]
     },
     "metadata": {
      "needs_background": "light"
     },
     "output_type": "display_data"
    },
    {
     "data": {
      "image/png": "[encoded data removed]",
      "text/plain": [
       "<Figure size 1080x432 with 1 Axes>"
      ]
     },
     "metadata": {
      "needs_background": "light"
     },
     "output_type": "display_data"
    },
    {
     "data": {
      "image/png": "[encoded data removed]",
      "text/plain": [
       "<Figure size 1080x432 with 1 Axes>"
      ]
     },
     "metadata": {
      "needs_background": "light"
     },
     "output_type": "display_data"
    },
    {
     "data": {
      "image/png": "[encoded data removed]",
      "text/plain": [
       "<Figure size 1080x432 with 1 Axes>"
      ]
     },
     "metadata": {
      "needs_background": "light"
     },
     "output_type": "display_data"
    },
    {
     "data": {
      "image/png": "[encoded data removed]",
      "text/plain": [
       "<Figure size 1080x432 with 1 Axes>"
      ]
     },
     "metadata": {
      "needs_background": "light"
     },
     "output_type": "display_data"
    },
    {
     "data": {
      "image/png": "[encoded data removed]",
      "text/plain": [
       "<Figure size 1080x432 with 1 Axes>"
      ]
     },
     "metadata": {
      "needs_background": "light"
     },
     "output_type": "display_data"
    }
   ],
   "source": [
    "for var in numerical:\n",
    "    plt.figure(figsize=(15,6))\n",
    "    plt.subplot(1, 2, 1)\n",
    "    fig = df.boxplot(column=var)\n",
    "    fig.set_title('')\n",
    "    fig.set_ylabel(var)"
   ]
  },
  {
   "cell_type": "markdown",
   "metadata": {},
   "source": [
    "The variables presenting outliers are:\n",
    "    - bore (top)\n",
    "    - compression_ratio (both)\n",
    "    - Height (top)\n",
    "    - highway_mpg (top)\n",
    "    - horse_power (top)\n",
    "    - lenght (both)\n",
    "    - normalized_losses (top)\n",
    "    - stroke (bottom)\n",
    "    - wheel_base (both)\n",
    "    - width (both)\n",
    "   "
   ]
  },
  {
   "cell_type": "code",
   "execution_count": 49,
   "metadata": {},
   "outputs": [
    {
     "name": "stdout",
     "output_type": "stream",
     "text": [
      "bore skewness is 0.6257923004524101\n",
      "compression_ratio skewness is 5.190962998330603\n",
      "height skewness is 0.27350172478135837\n",
      "highway_mpg skewness is 0.954946036021284\n",
      "horsepower skewness is 2.4448428600495635\n",
      "length skewness is -0.16070860345381996\n",
      "normalized_losses skewness is 0.8716855672848831\n",
      "stroke skewness is -1.212937019722827\n",
      "wheel_base skewness is 1.2071569265180229\n",
      "width skewness is 0.8650397680572235\n"
     ]
    }
   ],
   "source": [
    "# let's find the skewness of above variables\n",
    "for var in ['bore',\n",
    " 'compression_ratio',\n",
    " 'height',\n",
    " 'highway_mpg',\n",
    " 'horsepower',\n",
    " 'length',\n",
    " 'normalized_losses',\n",
    " 'stroke',\n",
    " 'wheel_base',\n",
    " 'width']:\n",
    "    print(var, 'skewness is', df[var].skew() )"
   ]
  },
  {
   "cell_type": "markdown",
   "metadata": {},
   "source": [
    "If we consider an absolute value of 1 to be normal skewness. \n",
    "\n",
    "I shall deal with outliers as follows:\n",
    "\n",
    "    - Equal binning for variables with a skewness above 1:\n",
    "        - stroke -done\n",
    "        - horsepower -done\n",
    "        - compression_ratio - not yet\n",
    "        - wheel_balse -not yet\n",
    "        \n",
    "    - Bottom/top capping for others. "
   ]
  },
  {
   "cell_type": "markdown",
   "metadata": {},
   "source": [
    "#### 8.2 Equal binning"
   ]
  },
  {
   "cell_type": "code",
   "execution_count": 50,
   "metadata": {
    "scrolled": true
   },
   "outputs": [
    {
     "name": "stdout",
     "output_type": "stream",
     "text": [
      "['Q1', 'Q2', 'Q3', 'Q4', 'Q5', 'Q6', 'Q7', 'Q8', 'Q9', 'Q10']\n"
     ]
    },
    {
     "data": {
      "text/html": [
       "<div>\n",
       "<style scoped>\n",
       "    .dataframe tbody tr th:only-of-type {\n",
       "        vertical-align: middle;\n",
       "    }\n",
       "\n",
       "    .dataframe tbody tr th {\n",
       "        vertical-align: top;\n",
       "    }\n",
       "\n",
       "    .dataframe thead th {\n",
       "        text-align: right;\n",
       "    }\n",
       "</style>\n",
       "<table border=\"1\" class=\"dataframe\">\n",
       "  <thead>\n",
       "    <tr style=\"text-align: right;\">\n",
       "      <th></th>\n",
       "      <th>aspiration</th>\n",
       "      <th>body_style</th>\n",
       "      <th>bore</th>\n",
       "      <th>city_mpg</th>\n",
       "      <th>compression_ratio</th>\n",
       "      <th>curb_weight</th>\n",
       "      <th>drive_wheels</th>\n",
       "      <th>engine_location</th>\n",
       "      <th>engine_size</th>\n",
       "      <th>engine_type</th>\n",
       "      <th>fuel_system</th>\n",
       "      <th>fuel_type</th>\n",
       "      <th>height</th>\n",
       "      <th>highway_mpg</th>\n",
       "      <th>horsepower</th>\n",
       "      <th>length</th>\n",
       "      <th>make_id</th>\n",
       "      <th>normalized_losses</th>\n",
       "      <th>num_of_cylinders</th>\n",
       "      <th>num_of_doors</th>\n",
       "      <th>peak_rpm</th>\n",
       "      <th>price</th>\n",
       "      <th>stroke</th>\n",
       "      <th>symboling</th>\n",
       "      <th>wheel_base</th>\n",
       "      <th>width</th>\n",
       "      <th>normalized_losses_NA</th>\n",
       "      <th>stroke_label</th>\n",
       "      <th>stroke_disc</th>\n",
       "      <th>horsepower_label</th>\n",
       "      <th>horsepower_disc</th>\n",
       "      <th>wheel_base_label</th>\n",
       "      <th>wheel_base_disc</th>\n",
       "    </tr>\n",
       "  </thead>\n",
       "  <tbody>\n",
       "    <tr>\n",
       "      <th>193</th>\n",
       "      <td>std</td>\n",
       "      <td>wagon</td>\n",
       "      <td>3.19</td>\n",
       "      <td>25</td>\n",
       "      <td>9.0</td>\n",
       "      <td>2563</td>\n",
       "      <td>fwd</td>\n",
       "      <td>front</td>\n",
       "      <td>109</td>\n",
       "      <td>ohc</td>\n",
       "      <td>mpfi</td>\n",
       "      <td>gas</td>\n",
       "      <td>55.1</td>\n",
       "      <td>31</td>\n",
       "      <td>88.0</td>\n",
       "      <td>183.1</td>\n",
       "      <td>21</td>\n",
       "      <td>114.0</td>\n",
       "      <td>four</td>\n",
       "      <td>four</td>\n",
       "      <td>5500.0</td>\n",
       "      <td>12290.0</td>\n",
       "      <td>3.40</td>\n",
       "      <td>0</td>\n",
       "      <td>100.4</td>\n",
       "      <td>66.9</td>\n",
       "      <td>1</td>\n",
       "      <td>Q7</td>\n",
       "      <td>(3.39, 3.4]</td>\n",
       "      <td>Q4</td>\n",
       "      <td>(77.8, 88.0]</td>\n",
       "      <td>Q7</td>\n",
       "      <td>(98.8, 100.4]</td>\n",
       "    </tr>\n",
       "    <tr>\n",
       "      <th>125</th>\n",
       "      <td>std</td>\n",
       "      <td>hatchback</td>\n",
       "      <td>3.94</td>\n",
       "      <td>19</td>\n",
       "      <td>9.5</td>\n",
       "      <td>2778</td>\n",
       "      <td>rwd</td>\n",
       "      <td>front</td>\n",
       "      <td>151</td>\n",
       "      <td>ohc</td>\n",
       "      <td>mpfi</td>\n",
       "      <td>gas</td>\n",
       "      <td>50.2</td>\n",
       "      <td>27</td>\n",
       "      <td>143.0</td>\n",
       "      <td>168.9</td>\n",
       "      <td>16</td>\n",
       "      <td>186.0</td>\n",
       "      <td>four</td>\n",
       "      <td>two</td>\n",
       "      <td>5500.0</td>\n",
       "      <td>22018.0</td>\n",
       "      <td>3.11</td>\n",
       "      <td>3</td>\n",
       "      <td>94.5</td>\n",
       "      <td>68.3</td>\n",
       "      <td>0</td>\n",
       "      <td>Q3</td>\n",
       "      <td>(3.07, 3.15]</td>\n",
       "      <td>Q9</td>\n",
       "      <td>(140.8, 160.0]</td>\n",
       "      <td>Q2</td>\n",
       "      <td>(93.7, 94.5]</td>\n",
       "    </tr>\n",
       "    <tr>\n",
       "      <th>173</th>\n",
       "      <td>std</td>\n",
       "      <td>sedan</td>\n",
       "      <td>3.31</td>\n",
       "      <td>29</td>\n",
       "      <td>8.7</td>\n",
       "      <td>2326</td>\n",
       "      <td>fwd</td>\n",
       "      <td>front</td>\n",
       "      <td>122</td>\n",
       "      <td>ohc</td>\n",
       "      <td>mpfi</td>\n",
       "      <td>gas</td>\n",
       "      <td>54.9</td>\n",
       "      <td>34</td>\n",
       "      <td>92.0</td>\n",
       "      <td>175.6</td>\n",
       "      <td>20</td>\n",
       "      <td>65.0</td>\n",
       "      <td>four</td>\n",
       "      <td>four</td>\n",
       "      <td>4200.0</td>\n",
       "      <td>8948.0</td>\n",
       "      <td>3.54</td>\n",
       "      <td>-1</td>\n",
       "      <td>102.4</td>\n",
       "      <td>66.5</td>\n",
       "      <td>0</td>\n",
       "      <td>Q9</td>\n",
       "      <td>(3.46, 3.54]</td>\n",
       "      <td>Q5</td>\n",
       "      <td>(88.0, 95.0]</td>\n",
       "      <td>Q8</td>\n",
       "      <td>(100.4, 103.5]</td>\n",
       "    </tr>\n",
       "    <tr>\n",
       "      <th>92</th>\n",
       "      <td>std</td>\n",
       "      <td>sedan</td>\n",
       "      <td>3.15</td>\n",
       "      <td>31</td>\n",
       "      <td>9.4</td>\n",
       "      <td>1938</td>\n",
       "      <td>fwd</td>\n",
       "      <td>front</td>\n",
       "      <td>97</td>\n",
       "      <td>ohc</td>\n",
       "      <td>2bbl</td>\n",
       "      <td>gas</td>\n",
       "      <td>54.5</td>\n",
       "      <td>37</td>\n",
       "      <td>69.0</td>\n",
       "      <td>165.3</td>\n",
       "      <td>13</td>\n",
       "      <td>122.0</td>\n",
       "      <td>four</td>\n",
       "      <td>four</td>\n",
       "      <td>5200.0</td>\n",
       "      <td>6849.0</td>\n",
       "      <td>3.29</td>\n",
       "      <td>1</td>\n",
       "      <td>94.5</td>\n",
       "      <td>63.8</td>\n",
       "      <td>0</td>\n",
       "      <td>Q5</td>\n",
       "      <td>(3.23, 3.29]</td>\n",
       "      <td>Q2</td>\n",
       "      <td>(68.0, 69.0]</td>\n",
       "      <td>Q2</td>\n",
       "      <td>(93.7, 94.5]</td>\n",
       "    </tr>\n",
       "    <tr>\n",
       "      <th>16</th>\n",
       "      <td>std</td>\n",
       "      <td>sedan</td>\n",
       "      <td>3.62</td>\n",
       "      <td>16</td>\n",
       "      <td>8.0</td>\n",
       "      <td>3380</td>\n",
       "      <td>rwd</td>\n",
       "      <td>front</td>\n",
       "      <td>209</td>\n",
       "      <td>ohc</td>\n",
       "      <td>mpfi</td>\n",
       "      <td>gas</td>\n",
       "      <td>53.7</td>\n",
       "      <td>22</td>\n",
       "      <td>182.0</td>\n",
       "      <td>193.8</td>\n",
       "      <td>3</td>\n",
       "      <td>114.0</td>\n",
       "      <td>six</td>\n",
       "      <td>two</td>\n",
       "      <td>5400.0</td>\n",
       "      <td>41315.0</td>\n",
       "      <td>3.39</td>\n",
       "      <td>0</td>\n",
       "      <td>103.5</td>\n",
       "      <td>67.9</td>\n",
       "      <td>1</td>\n",
       "      <td>Q6</td>\n",
       "      <td>(3.29, 3.39]</td>\n",
       "      <td>Q10</td>\n",
       "      <td>(160.0, 262.0]</td>\n",
       "      <td>Q8</td>\n",
       "      <td>(100.4, 103.5]</td>\n",
       "    </tr>\n",
       "    <tr>\n",
       "      <th>189</th>\n",
       "      <td>std</td>\n",
       "      <td>convertible</td>\n",
       "      <td>3.19</td>\n",
       "      <td>24</td>\n",
       "      <td>8.5</td>\n",
       "      <td>2254</td>\n",
       "      <td>fwd</td>\n",
       "      <td>front</td>\n",
       "      <td>109</td>\n",
       "      <td>ohc</td>\n",
       "      <td>mpfi</td>\n",
       "      <td>gas</td>\n",
       "      <td>55.6</td>\n",
       "      <td>29</td>\n",
       "      <td>90.0</td>\n",
       "      <td>159.3</td>\n",
       "      <td>21</td>\n",
       "      <td>114.0</td>\n",
       "      <td>four</td>\n",
       "      <td>two</td>\n",
       "      <td>5500.0</td>\n",
       "      <td>11595.0</td>\n",
       "      <td>3.40</td>\n",
       "      <td>3</td>\n",
       "      <td>94.5</td>\n",
       "      <td>64.2</td>\n",
       "      <td>1</td>\n",
       "      <td>Q7</td>\n",
       "      <td>(3.39, 3.4]</td>\n",
       "      <td>Q5</td>\n",
       "      <td>(88.0, 95.0]</td>\n",
       "      <td>Q2</td>\n",
       "      <td>(93.7, 94.5]</td>\n",
       "    </tr>\n",
       "    <tr>\n",
       "      <th>136</th>\n",
       "      <td>turbo</td>\n",
       "      <td>hatchback</td>\n",
       "      <td>3.54</td>\n",
       "      <td>19</td>\n",
       "      <td>9.0</td>\n",
       "      <td>2808</td>\n",
       "      <td>fwd</td>\n",
       "      <td>front</td>\n",
       "      <td>121</td>\n",
       "      <td>dohc</td>\n",
       "      <td>mpfi</td>\n",
       "      <td>gas</td>\n",
       "      <td>56.1</td>\n",
       "      <td>26</td>\n",
       "      <td>160.0</td>\n",
       "      <td>186.6</td>\n",
       "      <td>18</td>\n",
       "      <td>150.0</td>\n",
       "      <td>four</td>\n",
       "      <td>two</td>\n",
       "      <td>5500.0</td>\n",
       "      <td>18150.0</td>\n",
       "      <td>3.07</td>\n",
       "      <td>3</td>\n",
       "      <td>99.1</td>\n",
       "      <td>66.5</td>\n",
       "      <td>0</td>\n",
       "      <td>Q2</td>\n",
       "      <td>(2.879, 3.07]</td>\n",
       "      <td>Q9</td>\n",
       "      <td>(140.8, 160.0]</td>\n",
       "      <td>Q7</td>\n",
       "      <td>(98.8, 100.4]</td>\n",
       "    </tr>\n",
       "    <tr>\n",
       "      <th>22</th>\n",
       "      <td>std</td>\n",
       "      <td>hatchback</td>\n",
       "      <td>2.97</td>\n",
       "      <td>31</td>\n",
       "      <td>9.4</td>\n",
       "      <td>1876</td>\n",
       "      <td>fwd</td>\n",
       "      <td>front</td>\n",
       "      <td>90</td>\n",
       "      <td>ohc</td>\n",
       "      <td>2bbl</td>\n",
       "      <td>gas</td>\n",
       "      <td>50.8</td>\n",
       "      <td>38</td>\n",
       "      <td>68.0</td>\n",
       "      <td>157.3</td>\n",
       "      <td>5</td>\n",
       "      <td>118.0</td>\n",
       "      <td>four</td>\n",
       "      <td>two</td>\n",
       "      <td>5500.0</td>\n",
       "      <td>6377.0</td>\n",
       "      <td>3.23</td>\n",
       "      <td>1</td>\n",
       "      <td>93.7</td>\n",
       "      <td>63.8</td>\n",
       "      <td>0</td>\n",
       "      <td>Q4</td>\n",
       "      <td>(3.15, 3.23]</td>\n",
       "      <td>Q1</td>\n",
       "      <td>(51.999, 68.0]</td>\n",
       "      <td>Q1</td>\n",
       "      <td>(86.59899999999999, 93.7]</td>\n",
       "    </tr>\n",
       "    <tr>\n",
       "      <th>74</th>\n",
       "      <td>std</td>\n",
       "      <td>hardtop</td>\n",
       "      <td>3.80</td>\n",
       "      <td>14</td>\n",
       "      <td>8.0</td>\n",
       "      <td>3715</td>\n",
       "      <td>rwd</td>\n",
       "      <td>front</td>\n",
       "      <td>304</td>\n",
       "      <td>ohcv</td>\n",
       "      <td>mpfi</td>\n",
       "      <td>gas</td>\n",
       "      <td>55.4</td>\n",
       "      <td>16</td>\n",
       "      <td>184.0</td>\n",
       "      <td>199.2</td>\n",
       "      <td>10</td>\n",
       "      <td>114.0</td>\n",
       "      <td>eight</td>\n",
       "      <td>two</td>\n",
       "      <td>4500.0</td>\n",
       "      <td>45400.0</td>\n",
       "      <td>3.35</td>\n",
       "      <td>1</td>\n",
       "      <td>112.0</td>\n",
       "      <td>72.0</td>\n",
       "      <td>1</td>\n",
       "      <td>Q6</td>\n",
       "      <td>(3.29, 3.39]</td>\n",
       "      <td>Q10</td>\n",
       "      <td>(160.0, 262.0]</td>\n",
       "      <td>Q10</td>\n",
       "      <td>(107.97, 120.9]</td>\n",
       "    </tr>\n",
       "    <tr>\n",
       "      <th>44</th>\n",
       "      <td>std</td>\n",
       "      <td>sedan</td>\n",
       "      <td>3.03</td>\n",
       "      <td>38</td>\n",
       "      <td>9.6</td>\n",
       "      <td>1874</td>\n",
       "      <td>fwd</td>\n",
       "      <td>front</td>\n",
       "      <td>90</td>\n",
       "      <td>ohc</td>\n",
       "      <td>2bbl</td>\n",
       "      <td>gas</td>\n",
       "      <td>52.0</td>\n",
       "      <td>43</td>\n",
       "      <td>70.0</td>\n",
       "      <td>155.9</td>\n",
       "      <td>7</td>\n",
       "      <td>114.0</td>\n",
       "      <td>four</td>\n",
       "      <td>two</td>\n",
       "      <td>5400.0</td>\n",
       "      <td>10646.5</td>\n",
       "      <td>3.11</td>\n",
       "      <td>1</td>\n",
       "      <td>94.5</td>\n",
       "      <td>63.6</td>\n",
       "      <td>1</td>\n",
       "      <td>Q3</td>\n",
       "      <td>(3.07, 3.15]</td>\n",
       "      <td>Q3</td>\n",
       "      <td>(69.0, 77.8]</td>\n",
       "      <td>Q2</td>\n",
       "      <td>(93.7, 94.5]</td>\n",
       "    </tr>\n",
       "  </tbody>\n",
       "</table>\n",
       "</div>"
      ],
      "text/plain": [
       "    aspiration   body_style  bore  city_mpg  compression_ratio  curb_weight  \\\n",
       "193        std        wagon  3.19        25                9.0         2563   \n",
       "125        std    hatchback  3.94        19                9.5         2778   \n",
       "173        std        sedan  3.31        29                8.7         2326   \n",
       "92         std        sedan  3.15        31                9.4         1938   \n",
       "16         std        sedan  3.62        16                8.0         3380   \n",
       "189        std  convertible  3.19        24                8.5         2254   \n",
       "136      turbo    hatchback  3.54        19                9.0         2808   \n",
       "22         std    hatchback  2.97        31                9.4         1876   \n",
       "74         std      hardtop  3.80        14                8.0         3715   \n",
       "44         std        sedan  3.03        38                9.6         1874   \n",
       "\n",
       "    drive_wheels engine_location  engine_size engine_type fuel_system  \\\n",
       "193          fwd           front          109         ohc        mpfi   \n",
       "125          rwd           front          151         ohc        mpfi   \n",
       "173          fwd           front          122         ohc        mpfi   \n",
       "92           fwd           front           97         ohc        2bbl   \n",
       "16           rwd           front          209         ohc        mpfi   \n",
       "189          fwd           front          109         ohc        mpfi   \n",
       "136          fwd           front          121        dohc        mpfi   \n",
       "22           fwd           front           90         ohc        2bbl   \n",
       "74           rwd           front          304        ohcv        mpfi   \n",
       "44           fwd           front           90         ohc        2bbl   \n",
       "\n",
       "    fuel_type  height  highway_mpg  horsepower  length  make_id  \\\n",
       "193       gas    55.1           31        88.0   183.1       21   \n",
       "125       gas    50.2           27       143.0   168.9       16   \n",
       "173       gas    54.9           34        92.0   175.6       20   \n",
       "92        gas    54.5           37        69.0   165.3       13   \n",
       "16        gas    53.7           22       182.0   193.8        3   \n",
       "189       gas    55.6           29        90.0   159.3       21   \n",
       "136       gas    56.1           26       160.0   186.6       18   \n",
       "22        gas    50.8           38        68.0   157.3        5   \n",
       "74        gas    55.4           16       184.0   199.2       10   \n",
       "44        gas    52.0           43        70.0   155.9        7   \n",
       "\n",
       "     normalized_losses num_of_cylinders num_of_doors  peak_rpm    price  \\\n",
       "193              114.0             four         four    5500.0  12290.0   \n",
       "125              186.0             four          two    5500.0  22018.0   \n",
       "173               65.0             four         four    4200.0   8948.0   \n",
       "92               122.0             four         four    5200.0   6849.0   \n",
       "16               114.0              six          two    5400.0  41315.0   \n",
       "189              114.0             four          two    5500.0  11595.0   \n",
       "136              150.0             four          two    5500.0  18150.0   \n",
       "22               118.0             four          two    5500.0   6377.0   \n",
       "74               114.0            eight          two    4500.0  45400.0   \n",
       "44               114.0             four          two    5400.0  10646.5   \n",
       "\n",
       "     stroke  symboling  wheel_base  width  normalized_losses_NA stroke_label  \\\n",
       "193    3.40          0       100.4   66.9                     1           Q7   \n",
       "125    3.11          3        94.5   68.3                     0           Q3   \n",
       "173    3.54         -1       102.4   66.5                     0           Q9   \n",
       "92     3.29          1        94.5   63.8                     0           Q5   \n",
       "16     3.39          0       103.5   67.9                     1           Q6   \n",
       "189    3.40          3        94.5   64.2                     1           Q7   \n",
       "136    3.07          3        99.1   66.5                     0           Q2   \n",
       "22     3.23          1        93.7   63.8                     0           Q4   \n",
       "74     3.35          1       112.0   72.0                     1           Q6   \n",
       "44     3.11          1        94.5   63.6                     1           Q3   \n",
       "\n",
       "       stroke_disc horsepower_label horsepower_disc wheel_base_label  \\\n",
       "193    (3.39, 3.4]               Q4    (77.8, 88.0]               Q7   \n",
       "125   (3.07, 3.15]               Q9  (140.8, 160.0]               Q2   \n",
       "173   (3.46, 3.54]               Q5    (88.0, 95.0]               Q8   \n",
       "92    (3.23, 3.29]               Q2    (68.0, 69.0]               Q2   \n",
       "16    (3.29, 3.39]              Q10  (160.0, 262.0]               Q8   \n",
       "189    (3.39, 3.4]               Q5    (88.0, 95.0]               Q2   \n",
       "136  (2.879, 3.07]               Q9  (140.8, 160.0]               Q7   \n",
       "22    (3.15, 3.23]               Q1  (51.999, 68.0]               Q1   \n",
       "74    (3.29, 3.39]              Q10  (160.0, 262.0]              Q10   \n",
       "44    (3.07, 3.15]               Q3    (69.0, 77.8]               Q2   \n",
       "\n",
       "               wheel_base_disc  \n",
       "193              (98.8, 100.4]  \n",
       "125               (93.7, 94.5]  \n",
       "173             (100.4, 103.5]  \n",
       "92                (93.7, 94.5]  \n",
       "16              (100.4, 103.5]  \n",
       "189               (93.7, 94.5]  \n",
       "136              (98.8, 100.4]  \n",
       "22   (86.59899999999999, 93.7]  \n",
       "74             (107.97, 120.9]  \n",
       "44                (93.7, 94.5]  "
      ]
     },
     "execution_count": 50,
     "metadata": {},
     "output_type": "execute_result"
    }
   ],
   "source": [
    "# and now, I will divide into 10 quantiles for the rest of the exercise. I will leave the quantile\n",
    "# boundary and generate labels as well for comparison\n",
    "\n",
    "# create 10 labels, one for each quantile\n",
    "labels = ['Q'+str(i+1) for i in range(0,10)]\n",
    "print(labels)\n",
    "\n",
    "\n",
    "# bins with labels\n",
    "X_train['stroke_label'], bins = pd.qcut(x=X_train.stroke, q=10, labels=labels, retbins=True, precision=3, duplicates='raise')\n",
    "\n",
    "# bins with boundaries\n",
    "X_train['stroke_disc'], bins = pd.qcut(x=X_train.stroke, q=10, retbins=True, precision=3, duplicates='raise')\n",
    "\n",
    "# bins with labels\n",
    "X_train['horsepower_label'], bins = pd.qcut(x=X_train.horsepower, q=10, labels=labels, retbins=True, precision=3, duplicates='raise')\n",
    "\n",
    "# bins with boundaries\n",
    "X_train['horsepower_disc'], bins = pd.qcut(x=X_train.horsepower, q=10, retbins=True, precision=3, duplicates='raise')\n",
    "\n",
    "# bins with labels\n",
    "X_train['wheel_base_label'], bins = pd.qcut(x=X_train.wheel_base, q=10, labels=labels, retbins=True, precision=3, duplicates='raise')\n",
    "\n",
    "# bins with boundaries\n",
    "X_train['wheel_base_disc'], bins = pd.qcut(x=X_train.wheel_base, q=10, retbins=True, precision=3, duplicates='raise')\n",
    "\n",
    "\n",
    "\n",
    "\n",
    "X_train.head(10)"
   ]
  },
  {
   "cell_type": "code",
   "execution_count": 51,
   "metadata": {},
   "outputs": [
    {
     "name": "stdout",
     "output_type": "stream",
     "text": [
      "['Q1', 'Q2', 'Q3', 'Q4', 'Q5']\n"
     ]
    }
   ],
   "source": [
    "# create 10 labels, one for each quantile\n",
    "labels = ['Q'+str(i+1) for i in range(0,5)]\n",
    "print(labels)\n",
    "\n",
    "# bins with labels\n",
    "X_train['compression_ratio_label'], bins = pd.qcut(x=X_train.compression_ratio, q=5, labels=labels, retbins=True, precision=3, duplicates='raise')\n",
    "\n",
    "# bins with boundaries\n",
    "X_train['compression_ratio_disc'], bins = pd.qcut(x=X_train.compression_ratio, q=5, retbins=True, precision=3, duplicates='raise')\n",
    "\n",
    "\n"
   ]
  },
  {
   "cell_type": "code",
   "execution_count": 52,
   "metadata": {
    "scrolled": false
   },
   "outputs": [
    {
     "data": {
      "text/html": [
       "<div>\n",
       "<style scoped>\n",
       "    .dataframe tbody tr th:only-of-type {\n",
       "        vertical-align: middle;\n",
       "    }\n",
       "\n",
       "    .dataframe tbody tr th {\n",
       "        vertical-align: top;\n",
       "    }\n",
       "\n",
       "    .dataframe thead th {\n",
       "        text-align: right;\n",
       "    }\n",
       "</style>\n",
       "<table border=\"1\" class=\"dataframe\">\n",
       "  <thead>\n",
       "    <tr style=\"text-align: right;\">\n",
       "      <th></th>\n",
       "      <th>aspiration</th>\n",
       "      <th>body_style</th>\n",
       "      <th>bore</th>\n",
       "      <th>city_mpg</th>\n",
       "      <th>compression_ratio</th>\n",
       "      <th>curb_weight</th>\n",
       "      <th>drive_wheels</th>\n",
       "      <th>engine_location</th>\n",
       "      <th>engine_size</th>\n",
       "      <th>engine_type</th>\n",
       "      <th>fuel_system</th>\n",
       "      <th>fuel_type</th>\n",
       "      <th>height</th>\n",
       "      <th>highway_mpg</th>\n",
       "      <th>horsepower</th>\n",
       "      <th>length</th>\n",
       "      <th>make_id</th>\n",
       "      <th>normalized_losses</th>\n",
       "      <th>num_of_cylinders</th>\n",
       "      <th>num_of_doors</th>\n",
       "      <th>peak_rpm</th>\n",
       "      <th>price</th>\n",
       "      <th>stroke</th>\n",
       "      <th>symboling</th>\n",
       "      <th>wheel_base</th>\n",
       "      <th>width</th>\n",
       "      <th>normalized_losses_NA</th>\n",
       "      <th>stroke_label</th>\n",
       "      <th>stroke_disc</th>\n",
       "      <th>horsepower_label</th>\n",
       "      <th>horsepower_disc</th>\n",
       "      <th>wheel_base_label</th>\n",
       "      <th>wheel_base_disc</th>\n",
       "      <th>compression_ratio_label</th>\n",
       "      <th>compression_ratio_disc</th>\n",
       "    </tr>\n",
       "  </thead>\n",
       "  <tbody>\n",
       "    <tr>\n",
       "      <th>193</th>\n",
       "      <td>std</td>\n",
       "      <td>wagon</td>\n",
       "      <td>3.19</td>\n",
       "      <td>25</td>\n",
       "      <td>9.0</td>\n",
       "      <td>2563</td>\n",
       "      <td>fwd</td>\n",
       "      <td>front</td>\n",
       "      <td>109</td>\n",
       "      <td>ohc</td>\n",
       "      <td>mpfi</td>\n",
       "      <td>gas</td>\n",
       "      <td>55.1</td>\n",
       "      <td>31</td>\n",
       "      <td>88.0</td>\n",
       "      <td>183.1</td>\n",
       "      <td>21</td>\n",
       "      <td>114.0</td>\n",
       "      <td>four</td>\n",
       "      <td>four</td>\n",
       "      <td>5500.0</td>\n",
       "      <td>12290.0</td>\n",
       "      <td>3.40</td>\n",
       "      <td>0</td>\n",
       "      <td>100.4</td>\n",
       "      <td>66.9</td>\n",
       "      <td>1</td>\n",
       "      <td>Q7</td>\n",
       "      <td>(3.39, 3.4]</td>\n",
       "      <td>Q4</td>\n",
       "      <td>(77.8, 88.0]</td>\n",
       "      <td>Q7</td>\n",
       "      <td>(98.8, 100.4]</td>\n",
       "      <td>Q2</td>\n",
       "      <td>(8.5, 9.0]</td>\n",
       "    </tr>\n",
       "    <tr>\n",
       "      <th>125</th>\n",
       "      <td>std</td>\n",
       "      <td>hatchback</td>\n",
       "      <td>3.94</td>\n",
       "      <td>19</td>\n",
       "      <td>9.5</td>\n",
       "      <td>2778</td>\n",
       "      <td>rwd</td>\n",
       "      <td>front</td>\n",
       "      <td>151</td>\n",
       "      <td>ohc</td>\n",
       "      <td>mpfi</td>\n",
       "      <td>gas</td>\n",
       "      <td>50.2</td>\n",
       "      <td>27</td>\n",
       "      <td>143.0</td>\n",
       "      <td>168.9</td>\n",
       "      <td>16</td>\n",
       "      <td>186.0</td>\n",
       "      <td>four</td>\n",
       "      <td>two</td>\n",
       "      <td>5500.0</td>\n",
       "      <td>22018.0</td>\n",
       "      <td>3.11</td>\n",
       "      <td>3</td>\n",
       "      <td>94.5</td>\n",
       "      <td>68.3</td>\n",
       "      <td>0</td>\n",
       "      <td>Q3</td>\n",
       "      <td>(3.07, 3.15]</td>\n",
       "      <td>Q9</td>\n",
       "      <td>(140.8, 160.0]</td>\n",
       "      <td>Q2</td>\n",
       "      <td>(93.7, 94.5]</td>\n",
       "      <td>Q4</td>\n",
       "      <td>(9.28, 9.5]</td>\n",
       "    </tr>\n",
       "    <tr>\n",
       "      <th>173</th>\n",
       "      <td>std</td>\n",
       "      <td>sedan</td>\n",
       "      <td>3.31</td>\n",
       "      <td>29</td>\n",
       "      <td>8.7</td>\n",
       "      <td>2326</td>\n",
       "      <td>fwd</td>\n",
       "      <td>front</td>\n",
       "      <td>122</td>\n",
       "      <td>ohc</td>\n",
       "      <td>mpfi</td>\n",
       "      <td>gas</td>\n",
       "      <td>54.9</td>\n",
       "      <td>34</td>\n",
       "      <td>92.0</td>\n",
       "      <td>175.6</td>\n",
       "      <td>20</td>\n",
       "      <td>65.0</td>\n",
       "      <td>four</td>\n",
       "      <td>four</td>\n",
       "      <td>4200.0</td>\n",
       "      <td>8948.0</td>\n",
       "      <td>3.54</td>\n",
       "      <td>-1</td>\n",
       "      <td>102.4</td>\n",
       "      <td>66.5</td>\n",
       "      <td>0</td>\n",
       "      <td>Q9</td>\n",
       "      <td>(3.46, 3.54]</td>\n",
       "      <td>Q5</td>\n",
       "      <td>(88.0, 95.0]</td>\n",
       "      <td>Q8</td>\n",
       "      <td>(100.4, 103.5]</td>\n",
       "      <td>Q2</td>\n",
       "      <td>(8.5, 9.0]</td>\n",
       "    </tr>\n",
       "    <tr>\n",
       "      <th>92</th>\n",
       "      <td>std</td>\n",
       "      <td>sedan</td>\n",
       "      <td>3.15</td>\n",
       "      <td>31</td>\n",
       "      <td>9.4</td>\n",
       "      <td>1938</td>\n",
       "      <td>fwd</td>\n",
       "      <td>front</td>\n",
       "      <td>97</td>\n",
       "      <td>ohc</td>\n",
       "      <td>2bbl</td>\n",
       "      <td>gas</td>\n",
       "      <td>54.5</td>\n",
       "      <td>37</td>\n",
       "      <td>69.0</td>\n",
       "      <td>165.3</td>\n",
       "      <td>13</td>\n",
       "      <td>122.0</td>\n",
       "      <td>four</td>\n",
       "      <td>four</td>\n",
       "      <td>5200.0</td>\n",
       "      <td>6849.0</td>\n",
       "      <td>3.29</td>\n",
       "      <td>1</td>\n",
       "      <td>94.5</td>\n",
       "      <td>63.8</td>\n",
       "      <td>0</td>\n",
       "      <td>Q5</td>\n",
       "      <td>(3.23, 3.29]</td>\n",
       "      <td>Q2</td>\n",
       "      <td>(68.0, 69.0]</td>\n",
       "      <td>Q2</td>\n",
       "      <td>(93.7, 94.5]</td>\n",
       "      <td>Q4</td>\n",
       "      <td>(9.28, 9.5]</td>\n",
       "    </tr>\n",
       "    <tr>\n",
       "      <th>16</th>\n",
       "      <td>std</td>\n",
       "      <td>sedan</td>\n",
       "      <td>3.62</td>\n",
       "      <td>16</td>\n",
       "      <td>8.0</td>\n",
       "      <td>3380</td>\n",
       "      <td>rwd</td>\n",
       "      <td>front</td>\n",
       "      <td>209</td>\n",
       "      <td>ohc</td>\n",
       "      <td>mpfi</td>\n",
       "      <td>gas</td>\n",
       "      <td>53.7</td>\n",
       "      <td>22</td>\n",
       "      <td>182.0</td>\n",
       "      <td>193.8</td>\n",
       "      <td>3</td>\n",
       "      <td>114.0</td>\n",
       "      <td>six</td>\n",
       "      <td>two</td>\n",
       "      <td>5400.0</td>\n",
       "      <td>41315.0</td>\n",
       "      <td>3.39</td>\n",
       "      <td>0</td>\n",
       "      <td>103.5</td>\n",
       "      <td>67.9</td>\n",
       "      <td>1</td>\n",
       "      <td>Q6</td>\n",
       "      <td>(3.29, 3.39]</td>\n",
       "      <td>Q10</td>\n",
       "      <td>(160.0, 262.0]</td>\n",
       "      <td>Q8</td>\n",
       "      <td>(100.4, 103.5]</td>\n",
       "      <td>Q1</td>\n",
       "      <td>(6.999, 8.5]</td>\n",
       "    </tr>\n",
       "  </tbody>\n",
       "</table>\n",
       "</div>"
      ],
      "text/plain": [
       "    aspiration body_style  bore  city_mpg  compression_ratio  curb_weight  \\\n",
       "193        std      wagon  3.19        25                9.0         2563   \n",
       "125        std  hatchback  3.94        19                9.5         2778   \n",
       "173        std      sedan  3.31        29                8.7         2326   \n",
       "92         std      sedan  3.15        31                9.4         1938   \n",
       "16         std      sedan  3.62        16                8.0         3380   \n",
       "\n",
       "    drive_wheels engine_location  engine_size engine_type fuel_system  \\\n",
       "193          fwd           front          109         ohc        mpfi   \n",
       "125          rwd           front          151         ohc        mpfi   \n",
       "173          fwd           front          122         ohc        mpfi   \n",
       "92           fwd           front           97         ohc        2bbl   \n",
       "16           rwd           front          209         ohc        mpfi   \n",
       "\n",
       "    fuel_type  height  highway_mpg  horsepower  length  make_id  \\\n",
       "193       gas    55.1           31        88.0   183.1       21   \n",
       "125       gas    50.2           27       143.0   168.9       16   \n",
       "173       gas    54.9           34        92.0   175.6       20   \n",
       "92        gas    54.5           37        69.0   165.3       13   \n",
       "16        gas    53.7           22       182.0   193.8        3   \n",
       "\n",
       "     normalized_losses num_of_cylinders num_of_doors  peak_rpm    price  \\\n",
       "193              114.0             four         four    5500.0  12290.0   \n",
       "125              186.0             four          two    5500.0  22018.0   \n",
       "173               65.0             four         four    4200.0   8948.0   \n",
       "92               122.0             four         four    5200.0   6849.0   \n",
       "16               114.0              six          two    5400.0  41315.0   \n",
       "\n",
       "     stroke  symboling  wheel_base  width  normalized_losses_NA stroke_label  \\\n",
       "193    3.40          0       100.4   66.9                     1           Q7   \n",
       "125    3.11          3        94.5   68.3                     0           Q3   \n",
       "173    3.54         -1       102.4   66.5                     0           Q9   \n",
       "92     3.29          1        94.5   63.8                     0           Q5   \n",
       "16     3.39          0       103.5   67.9                     1           Q6   \n",
       "\n",
       "      stroke_disc horsepower_label horsepower_disc wheel_base_label  \\\n",
       "193   (3.39, 3.4]               Q4    (77.8, 88.0]               Q7   \n",
       "125  (3.07, 3.15]               Q9  (140.8, 160.0]               Q2   \n",
       "173  (3.46, 3.54]               Q5    (88.0, 95.0]               Q8   \n",
       "92   (3.23, 3.29]               Q2    (68.0, 69.0]               Q2   \n",
       "16   (3.29, 3.39]              Q10  (160.0, 262.0]               Q8   \n",
       "\n",
       "    wheel_base_disc compression_ratio_label compression_ratio_disc  \n",
       "193   (98.8, 100.4]                      Q2             (8.5, 9.0]  \n",
       "125    (93.7, 94.5]                      Q4            (9.28, 9.5]  \n",
       "173  (100.4, 103.5]                      Q2             (8.5, 9.0]  \n",
       "92     (93.7, 94.5]                      Q4            (9.28, 9.5]  \n",
       "16   (100.4, 103.5]                      Q1           (6.999, 8.5]  "
      ]
     },
     "execution_count": 52,
     "metadata": {},
     "output_type": "execute_result"
    }
   ],
   "source": [
    "# we use pandas cut method and pass the quantile edges calculated in the training set\n",
    "\n",
    "X_test['stroke_disc'] = pd.cut(x = X_test.stroke, bins=bins, labels=labels)\n",
    "X_test['horsepower_disc'] = pd.cut(x = X_test.horsepower, bins=bins)\n",
    "X_test['compression_ratio_disc'] = pd.cut(x = X_test.compression_ratio, bins=bins)\n",
    "X_test['wheel_base_disc'] = pd.cut(x = X_test.wheel_base, bins=bins)\n",
    "\n",
    "\n",
    "\n",
    "X_test['stroke_label'] = pd.cut(x = X_test.stroke, bins=bins, labels=labels)\n",
    "X_test['horsepower_label'] = pd.cut(x = X_test.horsepower, bins=bins, labels=labels)\n",
    "X_test['compression_ratio_label'] = pd.cut(x = X_test.compression_ratio, bins=bins, labels=labels)\n",
    "X_test['wheel_base_label'] = pd.cut(x = X_test.wheel_base, bins=bins, labels=labels)\n",
    "\n",
    "\n",
    "\n",
    "\n",
    "\n",
    "\n",
    "X_train.head()"
   ]
  },
  {
   "cell_type": "markdown",
   "metadata": {},
   "source": [
    "Check for NA before I continue"
   ]
  },
  {
   "cell_type": "code",
   "execution_count": 53,
   "metadata": {},
   "outputs": [
    {
     "data": {
      "text/plain": [
       "aspiration                  0\n",
       "body_style                  0\n",
       "bore                        0\n",
       "city_mpg                    0\n",
       "compression_ratio           0\n",
       "curb_weight                 0\n",
       "drive_wheels                0\n",
       "engine_location             0\n",
       "engine_size                 0\n",
       "engine_type                 0\n",
       "fuel_system                 0\n",
       "fuel_type                   0\n",
       "height                      0\n",
       "highway_mpg                 0\n",
       "horsepower                  0\n",
       "length                      0\n",
       "make_id                     0\n",
       "normalized_losses           0\n",
       "num_of_cylinders            0\n",
       "num_of_doors                0\n",
       "peak_rpm                    0\n",
       "price                       0\n",
       "stroke                      0\n",
       "symboling                   0\n",
       "wheel_base                  0\n",
       "width                       0\n",
       "normalized_losses_NA        0\n",
       "stroke_disc                31\n",
       "horsepower_disc            31\n",
       "compression_ratio_disc      0\n",
       "wheel_base_disc            31\n",
       "stroke_label               31\n",
       "horsepower_label           31\n",
       "compression_ratio_label     0\n",
       "wheel_base_label           31\n",
       "dtype: int64"
      ]
     },
     "execution_count": 53,
     "metadata": {},
     "output_type": "execute_result"
    }
   ],
   "source": [
    "X_test.isnull().sum()"
   ]
  },
  {
   "cell_type": "code",
   "execution_count": 54,
   "metadata": {},
   "outputs": [
    {
     "data": {
      "text/plain": [
       "'Q3'"
      ]
     },
     "execution_count": 54,
     "metadata": {},
     "output_type": "execute_result"
    }
   ],
   "source": [
    "# Replace missing values with most common label\n",
    "# with this command we capture the most frequent label (check output with plot above)\n",
    "X_train.groupby(['stroke_label'])['stroke_label'].count().sort_values(ascending=False).index[0]"
   ]
  },
  {
   "cell_type": "code",
   "execution_count": 55,
   "metadata": {},
   "outputs": [
    {
     "data": {
      "text/plain": [
       "'Q1'"
      ]
     },
     "execution_count": 55,
     "metadata": {},
     "output_type": "execute_result"
    }
   ],
   "source": [
    "# Replace missing values with most common label\n",
    "# with this command we capture the most frequent label (check output with plot above)\n",
    "X_train.groupby(['horsepower_label'])['horsepower_label'].count().sort_values(ascending=False).index[0]"
   ]
  },
  {
   "cell_type": "code",
   "execution_count": 56,
   "metadata": {},
   "outputs": [
    {
     "data": {
      "text/plain": [
       "'Q2'"
      ]
     },
     "execution_count": 56,
     "metadata": {},
     "output_type": "execute_result"
    }
   ],
   "source": [
    "# Replace missing values with most common label\n",
    "# with this command we capture the most frequent label (check output with plot above)\n",
    "X_train.groupby(['compression_ratio_label'])['compression_ratio_label'].count().sort_values(ascending=False).index[0]"
   ]
  },
  {
   "cell_type": "code",
   "execution_count": 57,
   "metadata": {},
   "outputs": [
    {
     "data": {
      "text/plain": [
       "'Q1'"
      ]
     },
     "execution_count": 57,
     "metadata": {},
     "output_type": "execute_result"
    }
   ],
   "source": [
    "# Replace missing values with most common label\n",
    "# with this command we capture the most frequent label (check output with plot above)\n",
    "X_train.groupby(['wheel_base_label'])['wheel_base_label'].count().sort_values(ascending=False).index[0]"
   ]
  },
  {
   "cell_type": "code",
   "execution_count": 58,
   "metadata": {},
   "outputs": [
    {
     "data": {
      "text/plain": [
       "Interval(3.07, 3.15, closed='right')"
      ]
     },
     "execution_count": 58,
     "metadata": {},
     "output_type": "execute_result"
    }
   ],
   "source": [
    "# Replace missing values with most common label\n",
    "# with this command we capture the most frequent label (check output with plot above)\n",
    "X_train.groupby(['stroke_disc'])['stroke_disc'].count().sort_values(ascending=False).index[0]"
   ]
  },
  {
   "cell_type": "code",
   "execution_count": 59,
   "metadata": {},
   "outputs": [
    {
     "data": {
      "text/plain": [
       "Interval(51.999, 68.0, closed='right')"
      ]
     },
     "execution_count": 59,
     "metadata": {},
     "output_type": "execute_result"
    }
   ],
   "source": [
    "# Replace missing values with most common label\n",
    "# with this command we capture the most frequent label (check output with plot above)\n",
    "X_train.groupby(['horsepower_disc'])['horsepower_disc'].count().sort_values(ascending=False).index[0]"
   ]
  },
  {
   "cell_type": "code",
   "execution_count": 60,
   "metadata": {},
   "outputs": [
    {
     "data": {
      "text/plain": [
       "Interval(8.5, 9.0, closed='right')"
      ]
     },
     "execution_count": 60,
     "metadata": {},
     "output_type": "execute_result"
    }
   ],
   "source": [
    "# Replace missing values with most common label\n",
    "# with this command we capture the most frequent label (check output with plot above)\n",
    "X_train.groupby(['compression_ratio_disc'])['compression_ratio_disc'].count().sort_values(ascending=False).index[0]"
   ]
  },
  {
   "cell_type": "code",
   "execution_count": 61,
   "metadata": {},
   "outputs": [
    {
     "data": {
      "text/plain": [
       "Interval(86.59899999999999, 93.7, closed='right')"
      ]
     },
     "execution_count": 61,
     "metadata": {},
     "output_type": "execute_result"
    }
   ],
   "source": [
    "# Replace missing values with most common label\n",
    "# with this command we capture the most frequent label (check output with plot above)\n",
    "X_train.groupby(['wheel_base_disc'])['wheel_base_disc'].count().sort_values(ascending=False).index[0]"
   ]
  },
  {
   "cell_type": "code",
   "execution_count": 62,
   "metadata": {},
   "outputs": [],
   "source": [
    "# let's create a variable to replace NA with the most frequent label\n",
    "# both in train and test set\n",
    "\n",
    "def impute_na(df_train, df_test, variable):\n",
    "    most_frequent_category = df_train.groupby([variable])[variable].count().sort_values(ascending=False).index[0]\n",
    "    df_train[variable].fillna(most_frequent_category, inplace=True)\n",
    "    df_test[variable].fillna(most_frequent_category, inplace=True)"
   ]
  },
  {
   "cell_type": "code",
   "execution_count": 63,
   "metadata": {},
   "outputs": [],
   "source": [
    "# and let's replace the NA\n",
    "for variable in ['stroke_label','horsepower_label', \n",
    "                 'compression_ratio_label', 'wheel_base_label']:\n",
    "    impute_na(X_train, X_test, variable)"
   ]
  },
  {
   "cell_type": "markdown",
   "metadata": {},
   "source": [
    "Now I will drop the var_disc, as I will use the varibles_label. \n",
    "\n",
    "I shall also drop the original variables to prevent overfitting:"
   ]
  },
  {
   "cell_type": "code",
   "execution_count": 64,
   "metadata": {},
   "outputs": [],
   "source": [
    "X_train = X_train.drop('stroke_disc', axis = 1)\n",
    "X_test = X_test.drop('stroke_disc', axis = 1)\n",
    "\n",
    "X_train = X_train.drop('horsepower_disc', axis = 1)\n",
    "X_test = X_test.drop('horsepower_disc', axis = 1)\n",
    "\n",
    "X_train = X_train.drop('compression_ratio_disc', axis = 1)\n",
    "X_test = X_test.drop('compression_ratio_disc', axis = 1)\n",
    "\n",
    "X_train = X_train.drop('wheel_base_disc', axis = 1)\n",
    "X_test = X_test.drop('wheel_base_disc', axis = 1)\n",
    "\n",
    "######\n",
    "X_train = X_train.drop('stroke', axis = 1)\n",
    "X_test = X_test.drop('stroke', axis = 1)\n",
    "\n",
    "X_train = X_train.drop('horsepower', axis = 1)\n",
    "X_test = X_test.drop('horsepower', axis = 1)\n",
    "\n",
    "X_train = X_train.drop('compression_ratio', axis = 1)\n",
    "X_test = X_test.drop('compression_ratio', axis = 1)\n",
    "\n",
    "X_train = X_train.drop('wheel_base', axis = 1)\n",
    "X_test = X_test.drop('wheel_base', axis = 1)\n",
    "\n",
    "\n"
   ]
  },
  {
   "cell_type": "code",
   "execution_count": 65,
   "metadata": {},
   "outputs": [
    {
     "data": {
      "text/plain": [
       "aspiration                 0\n",
       "body_style                 0\n",
       "bore                       0\n",
       "city_mpg                   0\n",
       "curb_weight                0\n",
       "drive_wheels               0\n",
       "engine_location            0\n",
       "engine_size                0\n",
       "engine_type                0\n",
       "fuel_system                0\n",
       "fuel_type                  0\n",
       "height                     0\n",
       "highway_mpg                0\n",
       "length                     0\n",
       "make_id                    0\n",
       "normalized_losses          0\n",
       "num_of_cylinders           0\n",
       "num_of_doors               0\n",
       "peak_rpm                   0\n",
       "price                      0\n",
       "symboling                  0\n",
       "width                      0\n",
       "normalized_losses_NA       0\n",
       "stroke_label               0\n",
       "horsepower_label           0\n",
       "wheel_base_label           0\n",
       "compression_ratio_label    0\n",
       "dtype: int64"
      ]
     },
     "execution_count": 65,
     "metadata": {},
     "output_type": "execute_result"
    }
   ],
   "source": [
    "X_train.isnull().sum()"
   ]
  },
  {
   "cell_type": "code",
   "execution_count": 66,
   "metadata": {},
   "outputs": [
    {
     "data": {
      "text/plain": [
       "aspiration                 0\n",
       "body_style                 0\n",
       "bore                       0\n",
       "city_mpg                   0\n",
       "curb_weight                0\n",
       "drive_wheels               0\n",
       "engine_location            0\n",
       "engine_size                0\n",
       "engine_type                0\n",
       "fuel_system                0\n",
       "fuel_type                  0\n",
       "height                     0\n",
       "highway_mpg                0\n",
       "length                     0\n",
       "make_id                    0\n",
       "normalized_losses          0\n",
       "num_of_cylinders           0\n",
       "num_of_doors               0\n",
       "peak_rpm                   0\n",
       "price                      0\n",
       "symboling                  0\n",
       "width                      0\n",
       "normalized_losses_NA       0\n",
       "stroke_label               0\n",
       "horsepower_label           0\n",
       "compression_ratio_label    0\n",
       "wheel_base_label           0\n",
       "dtype: int64"
      ]
     },
     "execution_count": 66,
     "metadata": {},
     "output_type": "execute_result"
    }
   ],
   "source": [
    "X_test.isnull().sum()"
   ]
  },
  {
   "cell_type": "markdown",
   "metadata": {},
   "source": [
    "#### 8.2.1 Combine discretisation with mean encoding (Risk factor)\n"
   ]
  },
  {
   "cell_type": "code",
   "execution_count": 67,
   "metadata": {},
   "outputs": [],
   "source": [
    "ordered_labels1 = X_train.groupby(['stroke_label'])['price'].mean().to_dict()\n",
    "ordered_labels2 = X_train.groupby(['horsepower_label'])['price'].mean().to_dict()\n",
    "ordered_labels3 = X_train.groupby(['compression_ratio_label'])['price'].mean().to_dict()\n",
    "ordered_labels4 = X_train.groupby(['wheel_base_label'])['price'].mean().to_dict()\n",
    "\n",
    "\n"
   ]
  },
  {
   "cell_type": "code",
   "execution_count": 68,
   "metadata": {},
   "outputs": [],
   "source": [
    "# replace the labels with the 'risk' (target frequency)\n",
    "# note that we calculated the frequencies based on the training set only\n",
    "\n",
    "X_train['stroke_ordered'] = X_train.stroke_label.map(ordered_labels1)\n",
    "X_test['stroke_ordered'] = X_test.stroke_label.map(ordered_labels1)\n",
    "\n",
    "X_train['horsepower_ordered'] = X_train.horsepower_label.map(ordered_labels2)\n",
    "X_test['horsepower_ordered'] = X_test.horsepower_label.map(ordered_labels2)\n",
    "\n",
    "\n",
    "X_train['compression_ratio_ordered'] = X_train.compression_ratio_label.map(ordered_labels3)\n",
    "X_test['compression_ratio_ordered'] = X_test.compression_ratio_label.map(ordered_labels3)\n",
    "\n",
    "X_train['wheel_base_ordered'] = X_train.wheel_base_label.map(ordered_labels4)\n",
    "X_test['wheel_base_ordered'] = X_test.wheel_base_label.map(ordered_labels4)\n",
    "\n",
    "\n"
   ]
  },
  {
   "cell_type": "markdown",
   "metadata": {},
   "source": [
    "To prevent overfitting, now I can delete those columns used to created the var_label"
   ]
  },
  {
   "cell_type": "code",
   "execution_count": 69,
   "metadata": {},
   "outputs": [],
   "source": [
    "X_train = X_train.drop('stroke_label', axis = 1)\n",
    "X_test = X_test.drop('stroke_label', axis = 1)\n",
    "\n",
    "X_train = X_train.drop('horsepower_label', axis = 1)\n",
    "X_test = X_test.drop('horsepower_label', axis = 1)\n",
    "\n",
    "X_train = X_train.drop('compression_ratio_label', axis = 1)\n",
    "X_test = X_test.drop('compression_ratio_label', axis = 1)\n",
    "\n",
    "X_train = X_train.drop('wheel_base_label', axis = 1)\n",
    "X_test = X_test.drop('wheel_base_label', axis = 1)"
   ]
  },
  {
   "cell_type": "code",
   "execution_count": 70,
   "metadata": {},
   "outputs": [
    {
     "data": {
      "text/plain": [
       "aspiration                   0\n",
       "body_style                   0\n",
       "bore                         0\n",
       "city_mpg                     0\n",
       "curb_weight                  0\n",
       "drive_wheels                 0\n",
       "engine_location              0\n",
       "engine_size                  0\n",
       "engine_type                  0\n",
       "fuel_system                  0\n",
       "fuel_type                    0\n",
       "height                       0\n",
       "highway_mpg                  0\n",
       "length                       0\n",
       "make_id                      0\n",
       "normalized_losses            0\n",
       "num_of_cylinders             0\n",
       "num_of_doors                 0\n",
       "peak_rpm                     0\n",
       "price                        0\n",
       "symboling                    0\n",
       "width                        0\n",
       "normalized_losses_NA         0\n",
       "stroke_ordered               0\n",
       "horsepower_ordered           0\n",
       "compression_ratio_ordered    0\n",
       "wheel_base_ordered           0\n",
       "dtype: int64"
      ]
     },
     "execution_count": 70,
     "metadata": {},
     "output_type": "execute_result"
    }
   ],
   "source": [
    "X_train.isnull().sum()"
   ]
  },
  {
   "cell_type": "markdown",
   "metadata": {},
   "source": [
    "**8.3 Outlier handling with Top/Bottom caping**\n",
    "\n",
    "For variables with skew values less than absolute 1"
   ]
  },
  {
   "cell_type": "markdown",
   "metadata": {},
   "source": [
    " - bore (top)\n",
    " - height (top)\n",
    " - highway-mpg (top)\n",
    " - length (bottom, top)\n",
    " - normalized-losses(top)\n",
    " - peak-rpm(bottom)\n",
    " - width(bottom,top)"
   ]
  },
  {
   "cell_type": "code",
   "execution_count": 71,
   "metadata": {},
   "outputs": [],
   "source": [
    "outliertopbot = ['bore',\n",
    "'height',\n",
    "'highway_mpg',\n",
    "'length',\n",
    "'peak_rpm',\n",
    "'normalized_losses',\n",
    "'width']"
   ]
  },
  {
   "cell_type": "code",
   "execution_count": 72,
   "metadata": {},
   "outputs": [
    {
     "name": "stdout",
     "output_type": "stream",
     "text": [
      "['bore'] 2.2199999999999998 & 4.390000000000001\n",
      "['height'] 44.5 & 62.0\n",
      "['highway_mpg'] -3.5 & 66.5\n",
      "['length'] 132.8 & 209.8\n",
      "['peak_rpm'] 2700.0 & 7600.0\n",
      "['normalized_losses'] 18.0 & 221.0\n",
      "['width'] 57.700000000000045 & 73.09999999999997\n"
     ]
    }
   ],
   "source": [
    "for var in outliertopbot:\n",
    "    IQR = df[var].quantile(0.75) - df[var].quantile(0.25)\n",
    "    Lower_fence = df[var].quantile(0.25) - (IQR * 3)\n",
    "    Upper_fence = df[var].quantile(0.75) + (IQR * 3)\n",
    "    print([var],Lower_fence,'&', Upper_fence)\n",
    "\n"
   ]
  },
  {
   "cell_type": "code",
   "execution_count": 73,
   "metadata": {},
   "outputs": [],
   "source": [
    "def bottom_code(df, variable, bottom):\n",
    "    return np.where(df[variable]<=bottom, bottom, df[variable])\n",
    "\n",
    "for df in [X_train, X_test]:\n",
    "    df['length'] = bottom_code(df, 'length', 132.8)\n",
    "    df['peak_rpm'] = bottom_code(df, 'peak_rpm', 2700)\n",
    "    df['width'] = bottom_code(df, 'width', 57.70)    \n",
    "\n",
    "def top_code(df, variable, top):\n",
    "    return np.where(df[variable]>=top, top, df[variable])\n",
    "\n",
    "for df in [X_train, X_test]:\n",
    "    df['bore'] = top_code(df, 'bore', 4.39)\n",
    "    df['height'] = top_code(df, 'height', 62)\n",
    "    df['highway_mpg'] = top_code(df, 'highway_mpg', 66.5)\n",
    "    df['length'] = top_code(df, 'length', 209.8)\n",
    "    df['normalized_losses'] = top_code(df, 'normalized_losses', 221)\n",
    "    df['widht'] = top_code(df, 'width', 73.09)"
   ]
  },
  {
   "cell_type": "code",
   "execution_count": 74,
   "metadata": {},
   "outputs": [
    {
     "data": {
      "text/plain": [
       "count    31.000000\n",
       "mean     65.700000\n",
       "std       2.344071\n",
       "min      60.300000\n",
       "25%      64.300000\n",
       "50%      65.500000\n",
       "75%      66.500000\n",
       "max      72.300000\n",
       "Name: width, dtype: float64"
      ]
     },
     "execution_count": 74,
     "metadata": {},
     "output_type": "execute_result"
    }
   ],
   "source": [
    "df['width'].describe()\n",
    "    "
   ]
  },
  {
   "cell_type": "markdown",
   "metadata": {},
   "source": [
    "### 9. Engineer rare lables in categorical variables/discrete"
   ]
  },
  {
   "cell_type": "code",
   "execution_count": 75,
   "metadata": {},
   "outputs": [],
   "source": [
    "# the following vars in the data set are encoded the wrong way:\n",
    "\n",
    "X_train['symboling'] = X_train['symboling'].astype('category')\n",
    "X_test['symboling'] = X_test['symboling'].astype('category')\n",
    "\n",
    "X_train['make_id'] = X_train['make_id'].astype('category')\n",
    "X_test['make_id'] = X_test['make_id'].astype('category')    "
   ]
  },
  {
   "cell_type": "code",
   "execution_count": 76,
   "metadata": {},
   "outputs": [],
   "source": [
    "def rare_imputation(variable):\n",
    "    # find frequent labels / discrete numbers\n",
    "    temp = X_train.groupby([variable])[variable].count()/np.float(len(X_train))\n",
    "    frequent_cat = [x for x in temp.loc[temp>0.03].index.values]\n",
    "    \n",
    "    X_train[variable] = np.where(X_train[variable].isin(frequent_cat), X_train[variable], 'Rare')\n",
    "    X_test[variable] = np.where(X_test[variable].isin(frequent_cat), X_test[variable], 'Rare')\n"
   ]
  },
  {
   "cell_type": "code",
   "execution_count": 77,
   "metadata": {},
   "outputs": [
    {
     "data": {
      "text/plain": [
       "['aspiration',\n",
       " 'body_style',\n",
       " 'drive_wheels',\n",
       " 'engine_location',\n",
       " 'engine_type',\n",
       " 'fuel_system',\n",
       " 'fuel_type',\n",
       " 'make',\n",
       " 'num_of_cylinders',\n",
       " 'num_of_doors']"
      ]
     },
     "execution_count": 77,
     "metadata": {},
     "output_type": "execute_result"
    }
   ],
   "source": [
    "categorical"
   ]
  },
  {
   "cell_type": "code",
   "execution_count": 78,
   "metadata": {},
   "outputs": [],
   "source": [
    "categorical = ['aspiration',\n",
    " 'body_style',\n",
    " 'drive_wheels',\n",
    " 'engine_location',\n",
    " 'engine_type',\n",
    " 'fuel_system',\n",
    " 'fuel_type',\n",
    " 'make',\n",
    " 'num_of_cylinders',\n",
    " 'num_of_doors', 'symboling','make_id']"
   ]
  },
  {
   "cell_type": "code",
   "execution_count": 79,
   "metadata": {},
   "outputs": [],
   "source": [
    "# remove make because it is no longer in our dataset\n",
    "categorical.remove('make')\n",
    "\n",
    "# find infrequent labels in categorical variables and replace by Rare\n",
    "for var in categorical:\n",
    "    rare_imputation(var)\n",
    "    \n",
    "# find infrequent labels in categorical variables and replace by Rare\n",
    "# remember that we are treating discrete variables as if they were categorical\n",
    "for var in discrete:\n",
    "    rare_imputation(var)"
   ]
  },
  {
   "cell_type": "code",
   "execution_count": 80,
   "metadata": {},
   "outputs": [
    {
     "data": {
      "image/png": "[encoded data removed]",
      "text/plain": [
       "<Figure size 432x288 with 1 Axes>"
      ]
     },
     "metadata": {
      "needs_background": "light"
     },
     "output_type": "display_data"
    },
    {
     "data": {
      "image/png": "[encoded data removed]",
      "text/plain": [
       "<Figure size 432x288 with 1 Axes>"
      ]
     },
     "metadata": {
      "needs_background": "light"
     },
     "output_type": "display_data"
    },
    {
     "data": {
      "image/png": "[encoded data removed]",
      "text/plain": [
       "<Figure size 432x288 with 1 Axes>"
      ]
     },
     "metadata": {
      "needs_background": "light"
     },
     "output_type": "display_data"
    },
    {
     "data": {
      "image/png": "[encoded data removed]",
      "text/plain": [
       "<Figure size 432x288 with 1 Axes>"
      ]
     },
     "metadata": {
      "needs_background": "light"
     },
     "output_type": "display_data"
    },
    {
     "data": {
      "image/png": "[encoded data removed]",
      "text/plain": [
       "<Figure size 432x288 with 1 Axes>"
      ]
     },
     "metadata": {
      "needs_background": "light"
     },
     "output_type": "display_data"
    },
    {
     "data": {
      "image/png": "[encoded data removed]",
      "text/plain": [
       "<Figure size 432x288 with 1 Axes>"
      ]
     },
     "metadata": {
      "needs_background": "light"
     },
     "output_type": "display_data"
    },
    {
     "data": {
      "image/png": "[encoded data removed]",
      "text/plain": [
       "<Figure size 432x288 with 1 Axes>"
      ]
     },
     "metadata": {
      "needs_background": "light"
     },
     "output_type": "display_data"
    },
    {
     "data": {
      "image/png": "[encoded data removed]",
      "text/plain": [
       "<Figure size 432x288 with 1 Axes>"
      ]
     },
     "metadata": {
      "needs_background": "light"
     },
     "output_type": "display_data"
    },
    {
     "data": {
      "image/png": "[encoded data removed]",
      "text/plain": [
       "<Figure size 432x288 with 1 Axes>"
      ]
     },
     "metadata": {
      "needs_background": "light"
     },
     "output_type": "display_data"
    },
    {
     "data": {
      "image/png": "[encoded data removed]",
      "text/plain": [
       "<Figure size 432x288 with 1 Axes>"
      ]
     },
     "metadata": {
      "needs_background": "light"
     },
     "output_type": "display_data"
    },
    {
     "data": {
      "image/png": "[encoded data removed]",
      "text/plain": [
       "<Figure size 432x288 with 1 Axes>"
      ]
     },
     "metadata": {
      "needs_background": "light"
     },
     "output_type": "display_data"
    }
   ],
   "source": [
    "# let's check that it worked\n",
    "for var in categorical:\n",
    "    (X_train.groupby(var)[var].count() / np.float(len(X_train))).plot.bar()\n",
    "    plt.ylabel('Percentage of observations per label')\n",
    "    plt.title(var)\n",
    "    plt.show()"
   ]
  },
  {
   "cell_type": "code",
   "execution_count": 81,
   "metadata": {},
   "outputs": [
    {
     "data": {
      "image/png": "[encoded data removed]",
      "text/plain": [
       "<Figure size 432x288 with 1 Axes>"
      ]
     },
     "metadata": {
      "needs_background": "light"
     },
     "output_type": "display_data"
    },
    {
     "data": {
      "image/png": "[encoded data removed]",
      "text/plain": [
       "<Figure size 432x288 with 1 Axes>"
      ]
     },
     "metadata": {
      "needs_background": "light"
     },
     "output_type": "display_data"
    }
   ],
   "source": [
    "# let's check that it worked\n",
    "for var in discrete:\n",
    "    (X_train.groupby(var)[var].count() / np.float(len(X_train))).plot.bar()\n",
    "    plt.ylabel('Percentage of observations per label')\n",
    "    plt.title(var)\n",
    "    plt.show()"
   ]
  },
  {
   "cell_type": "markdown",
   "metadata": {},
   "source": [
    "YES! It did work well!"
   ]
  },
  {
   "cell_type": "markdown",
   "metadata": {},
   "source": [
    "### 10. Encoding Categorical Variables\n",
    "\n",
    "I will use target encoding\n"
   ]
  },
  {
   "cell_type": "code",
   "execution_count": 82,
   "metadata": {},
   "outputs": [],
   "source": [
    "def encode_categorical_variables(var, target):\n",
    "        # make label to price dictionary\n",
    "        ordered_labels = X_train.groupby([var])[target].mean().to_dict()\n",
    "        \n",
    "        # encode variables\n",
    "        X_train[var] = X_train[var].map(ordered_labels)\n",
    "        X_test[var] = X_test[var].map(ordered_labels)\n",
    "\n",
    "# encode labels in categorical vars\n",
    "for var in categorical:\n",
    "    encode_categorical_variables(var, 'price')\n",
    "    \n",
    "# encode labels in discrete vars\n",
    "for var in discrete:\n",
    "    encode_categorical_variables(var, 'price')"
   ]
  },
  {
   "cell_type": "code",
   "execution_count": 83,
   "metadata": {},
   "outputs": [
    {
     "data": {
      "text/html": [
       "<div>\n",
       "<style scoped>\n",
       "    .dataframe tbody tr th:only-of-type {\n",
       "        vertical-align: middle;\n",
       "    }\n",
       "\n",
       "    .dataframe tbody tr th {\n",
       "        vertical-align: top;\n",
       "    }\n",
       "\n",
       "    .dataframe thead th {\n",
       "        text-align: right;\n",
       "    }\n",
       "</style>\n",
       "<table border=\"1\" class=\"dataframe\">\n",
       "  <thead>\n",
       "    <tr style=\"text-align: right;\">\n",
       "      <th></th>\n",
       "      <th>aspiration</th>\n",
       "      <th>body_style</th>\n",
       "      <th>bore</th>\n",
       "      <th>city_mpg</th>\n",
       "      <th>curb_weight</th>\n",
       "      <th>drive_wheels</th>\n",
       "      <th>engine_location</th>\n",
       "      <th>engine_size</th>\n",
       "      <th>engine_type</th>\n",
       "      <th>fuel_system</th>\n",
       "      <th>fuel_type</th>\n",
       "      <th>height</th>\n",
       "      <th>highway_mpg</th>\n",
       "      <th>length</th>\n",
       "      <th>make_id</th>\n",
       "      <th>normalized_losses</th>\n",
       "      <th>num_of_cylinders</th>\n",
       "      <th>num_of_doors</th>\n",
       "      <th>peak_rpm</th>\n",
       "      <th>price</th>\n",
       "      <th>symboling</th>\n",
       "      <th>width</th>\n",
       "      <th>normalized_losses_NA</th>\n",
       "      <th>stroke_ordered</th>\n",
       "      <th>horsepower_ordered</th>\n",
       "      <th>compression_ratio_ordered</th>\n",
       "      <th>wheel_base_ordered</th>\n",
       "      <th>widht</th>\n",
       "    </tr>\n",
       "  </thead>\n",
       "  <tbody>\n",
       "    <tr>\n",
       "      <th>193</th>\n",
       "      <td>12844.206522</td>\n",
       "      <td>12037.050000</td>\n",
       "      <td>3.19</td>\n",
       "      <td>25</td>\n",
       "      <td>2563</td>\n",
       "      <td>9373.348039</td>\n",
       "      <td>13185.830409</td>\n",
       "      <td>109</td>\n",
       "      <td>11773.261905</td>\n",
       "      <td>18257.185897</td>\n",
       "      <td>13289.948387</td>\n",
       "      <td>55.1</td>\n",
       "      <td>31.0</td>\n",
       "      <td>183.1</td>\n",
       "      <td>10296.000000</td>\n",
       "      <td>114.0</td>\n",
       "      <td>10444.281022</td>\n",
       "      <td>13634.740385</td>\n",
       "      <td>5500.0</td>\n",
       "      <td>12290.0</td>\n",
       "      <td>14640.078947</td>\n",
       "      <td>66.9</td>\n",
       "      <td>1</td>\n",
       "      <td>13066.343750</td>\n",
       "      <td>8843.363636</td>\n",
       "      <td>11295.254902</td>\n",
       "      <td>14538.28125</td>\n",
       "      <td>66.9</td>\n",
       "    </tr>\n",
       "    <tr>\n",
       "      <th>125</th>\n",
       "      <td>12844.206522</td>\n",
       "      <td>10194.361111</td>\n",
       "      <td>3.94</td>\n",
       "      <td>19</td>\n",
       "      <td>2778</td>\n",
       "      <td>20587.546875</td>\n",
       "      <td>13185.830409</td>\n",
       "      <td>151</td>\n",
       "      <td>11773.261905</td>\n",
       "      <td>18257.185897</td>\n",
       "      <td>13289.948387</td>\n",
       "      <td>50.2</td>\n",
       "      <td>27.0</td>\n",
       "      <td>168.9</td>\n",
       "      <td>19875.285714</td>\n",
       "      <td>186.0</td>\n",
       "      <td>10444.281022</td>\n",
       "      <td>13433.542857</td>\n",
       "      <td>5500.0</td>\n",
       "      <td>22018.0</td>\n",
       "      <td>17864.086957</td>\n",
       "      <td>68.3</td>\n",
       "      <td>0</td>\n",
       "      <td>15010.613636</td>\n",
       "      <td>17661.605263</td>\n",
       "      <td>12200.340909</td>\n",
       "      <td>9203.42500</td>\n",
       "      <td>68.3</td>\n",
       "    </tr>\n",
       "    <tr>\n",
       "      <th>173</th>\n",
       "      <td>12844.206522</td>\n",
       "      <td>14589.798851</td>\n",
       "      <td>3.31</td>\n",
       "      <td>29</td>\n",
       "      <td>2326</td>\n",
       "      <td>9373.348039</td>\n",
       "      <td>13185.830409</td>\n",
       "      <td>122</td>\n",
       "      <td>11773.261905</td>\n",
       "      <td>18257.185897</td>\n",
       "      <td>13289.948387</td>\n",
       "      <td>54.9</td>\n",
       "      <td>34.0</td>\n",
       "      <td>175.6</td>\n",
       "      <td>9659.956522</td>\n",
       "      <td>65.0</td>\n",
       "      <td>10444.281022</td>\n",
       "      <td>13634.740385</td>\n",
       "      <td>4200.0</td>\n",
       "      <td>8948.0</td>\n",
       "      <td>17405.952381</td>\n",
       "      <td>66.5</td>\n",
       "      <td>0</td>\n",
       "      <td>12370.062500</td>\n",
       "      <td>12346.285714</td>\n",
       "      <td>11295.254902</td>\n",
       "      <td>18111.43750</td>\n",
       "      <td>66.5</td>\n",
       "    </tr>\n",
       "    <tr>\n",
       "      <th>92</th>\n",
       "      <td>12844.206522</td>\n",
       "      <td>14589.798851</td>\n",
       "      <td>3.15</td>\n",
       "      <td>31</td>\n",
       "      <td>1938</td>\n",
       "      <td>9373.348039</td>\n",
       "      <td>13185.830409</td>\n",
       "      <td>97</td>\n",
       "      <td>11773.261905</td>\n",
       "      <td>7656.026786</td>\n",
       "      <td>13289.948387</td>\n",
       "      <td>54.5</td>\n",
       "      <td>37.0</td>\n",
       "      <td>165.3</td>\n",
       "      <td>10299.000000</td>\n",
       "      <td>122.0</td>\n",
       "      <td>10444.281022</td>\n",
       "      <td>13634.740385</td>\n",
       "      <td>5200.0</td>\n",
       "      <td>6849.0</td>\n",
       "      <td>9753.031250</td>\n",
       "      <td>63.8</td>\n",
       "      <td>0</td>\n",
       "      <td>11270.125000</td>\n",
       "      <td>7461.500000</td>\n",
       "      <td>12200.340909</td>\n",
       "      <td>9203.42500</td>\n",
       "      <td>63.8</td>\n",
       "    </tr>\n",
       "    <tr>\n",
       "      <th>16</th>\n",
       "      <td>12844.206522</td>\n",
       "      <td>14589.798851</td>\n",
       "      <td>3.62</td>\n",
       "      <td>16</td>\n",
       "      <td>3380</td>\n",
       "      <td>20587.546875</td>\n",
       "      <td>13185.830409</td>\n",
       "      <td>209</td>\n",
       "      <td>11773.261905</td>\n",
       "      <td>18257.185897</td>\n",
       "      <td>13289.948387</td>\n",
       "      <td>53.7</td>\n",
       "      <td>22.0</td>\n",
       "      <td>193.8</td>\n",
       "      <td>26854.285714</td>\n",
       "      <td>114.0</td>\n",
       "      <td>24910.350000</td>\n",
       "      <td>13433.542857</td>\n",
       "      <td>5400.0</td>\n",
       "      <td>41315.0</td>\n",
       "      <td>14640.078947</td>\n",
       "      <td>67.9</td>\n",
       "      <td>1</td>\n",
       "      <td>17316.400000</td>\n",
       "      <td>30801.812500</td>\n",
       "      <td>17305.815217</td>\n",
       "      <td>18111.43750</td>\n",
       "      <td>67.9</td>\n",
       "    </tr>\n",
       "  </tbody>\n",
       "</table>\n",
       "</div>"
      ],
      "text/plain": [
       "       aspiration    body_style  bore  city_mpg  curb_weight  drive_wheels  \\\n",
       "193  12844.206522  12037.050000  3.19        25         2563   9373.348039   \n",
       "125  12844.206522  10194.361111  3.94        19         2778  20587.546875   \n",
       "173  12844.206522  14589.798851  3.31        29         2326   9373.348039   \n",
       "92   12844.206522  14589.798851  3.15        31         1938   9373.348039   \n",
       "16   12844.206522  14589.798851  3.62        16         3380  20587.546875   \n",
       "\n",
       "     engine_location  engine_size   engine_type   fuel_system     fuel_type  \\\n",
       "193     13185.830409          109  11773.261905  18257.185897  13289.948387   \n",
       "125     13185.830409          151  11773.261905  18257.185897  13289.948387   \n",
       "173     13185.830409          122  11773.261905  18257.185897  13289.948387   \n",
       "92      13185.830409           97  11773.261905   7656.026786  13289.948387   \n",
       "16      13185.830409          209  11773.261905  18257.185897  13289.948387   \n",
       "\n",
       "     height  highway_mpg  length       make_id  normalized_losses  \\\n",
       "193    55.1         31.0   183.1  10296.000000              114.0   \n",
       "125    50.2         27.0   168.9  19875.285714              186.0   \n",
       "173    54.9         34.0   175.6   9659.956522               65.0   \n",
       "92     54.5         37.0   165.3  10299.000000              122.0   \n",
       "16     53.7         22.0   193.8  26854.285714              114.0   \n",
       "\n",
       "     num_of_cylinders  num_of_doors  peak_rpm    price     symboling  width  \\\n",
       "193      10444.281022  13634.740385    5500.0  12290.0  14640.078947   66.9   \n",
       "125      10444.281022  13433.542857    5500.0  22018.0  17864.086957   68.3   \n",
       "173      10444.281022  13634.740385    4200.0   8948.0  17405.952381   66.5   \n",
       "92       10444.281022  13634.740385    5200.0   6849.0   9753.031250   63.8   \n",
       "16       24910.350000  13433.542857    5400.0  41315.0  14640.078947   67.9   \n",
       "\n",
       "     normalized_losses_NA  stroke_ordered  horsepower_ordered  \\\n",
       "193                     1    13066.343750         8843.363636   \n",
       "125                     0    15010.613636        17661.605263   \n",
       "173                     0    12370.062500        12346.285714   \n",
       "92                      0    11270.125000         7461.500000   \n",
       "16                      1    17316.400000        30801.812500   \n",
       "\n",
       "     compression_ratio_ordered  wheel_base_ordered  widht  \n",
       "193               11295.254902         14538.28125   66.9  \n",
       "125               12200.340909          9203.42500   68.3  \n",
       "173               11295.254902         18111.43750   66.5  \n",
       "92                12200.340909          9203.42500   63.8  \n",
       "16                17305.815217         18111.43750   67.9  "
      ]
     },
     "execution_count": 83,
     "metadata": {},
     "output_type": "execute_result"
    }
   ],
   "source": [
    "#let's inspect the dataset\n",
    "X_train.head()"
   ]
  },
  {
   "cell_type": "markdown",
   "metadata": {},
   "source": [
    "### 11.Feature Scaling"
   ]
  },
  {
   "cell_type": "code",
   "execution_count": 84,
   "metadata": {
    "scrolled": true
   },
   "outputs": [
    {
     "data": {
      "text/plain": [
       "aspiration                   float64\n",
       "body_style                   float64\n",
       "bore                         float64\n",
       "city_mpg                       int64\n",
       "curb_weight                    int64\n",
       "drive_wheels                 float64\n",
       "engine_location              float64\n",
       "engine_size                    int64\n",
       "engine_type                  float64\n",
       "fuel_system                  float64\n",
       "fuel_type                    float64\n",
       "height                       float64\n",
       "highway_mpg                  float64\n",
       "length                       float64\n",
       "make_id                      float64\n",
       "normalized_losses            float64\n",
       "num_of_cylinders             float64\n",
       "num_of_doors                 float64\n",
       "peak_rpm                     float64\n",
       "price                        float64\n",
       "symboling                    float64\n",
       "width                        float64\n",
       "normalized_losses_NA           int64\n",
       "stroke_ordered               float64\n",
       "horsepower_ordered           float64\n",
       "compression_ratio_ordered    float64\n",
       "wheel_base_ordered           float64\n",
       "widht                        float64\n",
       "dtype: object"
      ]
     },
     "execution_count": 84,
     "metadata": {},
     "output_type": "execute_result"
    }
   ],
   "source": [
    "# Check before it is all numerical\n",
    "X_train.dtypes"
   ]
  },
  {
   "cell_type": "code",
   "execution_count": 85,
   "metadata": {},
   "outputs": [
    {
     "data": {
      "text/plain": [
       "aspiration                   float64\n",
       "body_style                   float64\n",
       "bore                         float64\n",
       "city_mpg                       int64\n",
       "curb_weight                    int64\n",
       "drive_wheels                 float64\n",
       "engine_location              float64\n",
       "engine_size                    int64\n",
       "engine_type                  float64\n",
       "fuel_system                  float64\n",
       "fuel_type                    float64\n",
       "height                       float64\n",
       "highway_mpg                  float64\n",
       "length                       float64\n",
       "make_id                      float64\n",
       "normalized_losses            float64\n",
       "num_of_cylinders             float64\n",
       "num_of_doors                 float64\n",
       "peak_rpm                     float64\n",
       "price                        float64\n",
       "symboling                    float64\n",
       "width                        float64\n",
       "normalized_losses_NA           int64\n",
       "stroke_ordered               float64\n",
       "horsepower_ordered           float64\n",
       "compression_ratio_ordered    float64\n",
       "wheel_base_ordered           float64\n",
       "widht                        float64\n",
       "dtype: object"
      ]
     },
     "execution_count": 85,
     "metadata": {},
     "output_type": "execute_result"
    }
   ],
   "source": [
    "# Check before it is all numerical\n",
    "X_test.dtypes"
   ]
  },
  {
   "cell_type": "code",
   "execution_count": 86,
   "metadata": {},
   "outputs": [
    {
     "data": {
      "text/plain": [
       "Index(['aspiration', 'body_style', 'bore', 'city_mpg', 'curb_weight',\n",
       "       'drive_wheels', 'engine_location', 'engine_size', 'engine_type',\n",
       "       'fuel_system', 'fuel_type', 'height', 'highway_mpg', 'length',\n",
       "       'make_id', 'normalized_losses', 'num_of_cylinders', 'num_of_doors',\n",
       "       'peak_rpm', 'price', 'symboling', 'width', 'normalized_losses_NA',\n",
       "       'stroke_ordered', 'horsepower_ordered', 'compression_ratio_ordered',\n",
       "       'wheel_base_ordered', 'widht'],\n",
       "      dtype='object')"
      ]
     },
     "execution_count": 86,
     "metadata": {},
     "output_type": "execute_result"
    }
   ],
   "source": [
    "#Find column names\n",
    "X_train.columns"
   ]
  },
  {
   "cell_type": "code",
   "execution_count": 87,
   "metadata": {},
   "outputs": [
    {
     "name": "stdout",
     "output_type": "stream",
     "text": [
      "total number of variables to use for training:  28\n"
     ]
    }
   ],
   "source": [
    "# let's create a list of the training variables\n",
    "training_vars = ['aspiration', 'body_style', 'bore', 'city_mpg', 'curb_weight',\n",
    "       'drive_wheels', 'engine_location', 'engine_size', 'engine_type',\n",
    "       'fuel_system', 'fuel_type', 'height', 'highway_mpg', 'length',\n",
    "       'make_id', 'normalized_losses', 'num_of_cylinders', 'num_of_doors',\n",
    "       'peak_rpm', 'price', 'symboling', 'width', 'normalized_losses_NA',\n",
    "       'stroke_ordered', 'horsepower_ordered', 'compression_ratio_ordered',\n",
    "       'wheel_base_ordered', 'widht']\n",
    "\n",
    "print('total number of variables to use for training: ', len(training_vars))"
   ]
  },
  {
   "cell_type": "code",
   "execution_count": 88,
   "metadata": {},
   "outputs": [
    {
     "name": "stdout",
     "output_type": "stream",
     "text": [
      "aspiration skewness is 5.5677643628300215\n",
      "body_style skewness is 2.2846623412884255\n",
      "bore skewness is 0.527700822150885\n",
      "city_mpg skewness is 1.0403231549722474\n",
      "curb_weight skewness is 0.2120018148039922\n",
      "drive_wheels skewness is 0.4829064772716164\n",
      "engine_location skewness is 0\n",
      "engine_size skewness is 0.5635017615197339\n",
      "engine_type skewness is 2.868683399748382\n",
      "fuel_system skewness is -0.27588835177803833\n",
      "fuel_type skewness is 5.567764362830074\n",
      "height skewness is 0.27350172478135837\n",
      "highway_mpg skewness is 0.954946036021284\n",
      "length skewness is -0.16070860345381996\n",
      "make_id skewness is 1.1874675504165326\n",
      "normalized_losses skewness is 0.8716855672848831\n",
      "num_of_cylinders skewness is 1.1198901422468581\n",
      "num_of_doors skewness is 0.4874994082774718\n",
      "peak_rpm skewness is -0.15997438759248278\n",
      "price skewness is 0.6255002331118181\n",
      "symboling skewness is 0.4544326061084143\n",
      "width skewness is 0.8650397680572235\n",
      "normalized_losses_NA skewness is 0.9715255657145386\n",
      "stroke_ordered skewness is 0\n",
      "horsepower_ordered skewness is 0\n",
      "compression_ratio_ordered skewness is 0.9318789035528492\n",
      "wheel_base_ordered skewness is 0\n",
      "widht skewness is 0.8650397680572235\n"
     ]
    }
   ],
   "source": [
    "# let's find the skewness of above variables\n",
    "for var in training_vars:\n",
    "    print(var, 'skewness is', df[var].skew() )"
   ]
  },
  {
   "cell_type": "markdown",
   "metadata": {},
   "source": [
    "OK, I shall do :\n",
    "   - Robust Scaling for variables with an absolute skew above 2\n",
    "   - MinMax Scaling for variables with an absoulute skew between 1 and 2\n",
    "   - Standard for the rest"
   ]
  },
  {
   "cell_type": "code",
   "execution_count": 89,
   "metadata": {},
   "outputs": [
    {
     "name": "stdout",
     "output_type": "stream",
     "text": [
      "aspiration\n",
      "body_style\n",
      "engine_type\n",
      "fuel_type\n"
     ]
    }
   ],
   "source": [
    "for var in training_vars:\n",
    "    max_abs_value = 2\n",
    "    if abs(df[var].skew()) >= max_abs_value:\n",
    "        print (var)\n",
    "    "
   ]
  },
  {
   "cell_type": "code",
   "execution_count": 90,
   "metadata": {},
   "outputs": [],
   "source": [
    "# I Will start with Robust Scaling\n",
    "scalerR = RobustScaler() # call the object\n",
    "X_train_scaledR = scalerR.fit_transform(X_train[['aspiration', 'body_style', 'engine_type', 'fuel_type']]) # fit the scaler to the train set, and then scale it\n",
    "X_test_scaledR= scalerR.transform(X_test[['aspiration', 'body_style', 'engine_type', 'fuel_type']]) # scale the test set"
   ]
  },
  {
   "cell_type": "code",
   "execution_count": 91,
   "metadata": {},
   "outputs": [
    {
     "name": "stdout",
     "output_type": "stream",
     "text": [
      "city_mpg\n",
      "make_id\n",
      "num_of_cylinders\n"
     ]
    }
   ],
   "source": [
    "for var in training_vars:\n",
    "    max_abs_value = 2 \n",
    "    if (1 <= abs(df[var].skew()) <=2):  \n",
    "        print (var)"
   ]
  },
  {
   "cell_type": "code",
   "execution_count": 92,
   "metadata": {},
   "outputs": [],
   "source": [
    "#Continue with MinMax Scaling\n",
    "scalerMM = MinMaxScaler() # create an instance\n",
    "\n",
    "X_train_scaledMM= scalerMM.fit_transform(X_train[['num_of_cylinders','make_id','city_mpg']]) #  fit  the scaler to the train set and then transform it\n",
    "X_test_scaledMM= scalerMM.transform(X_test[['num_of_cylinders','make_id','city_mpg']]) # transform (scale) the test set\n",
    "\n"
   ]
  },
  {
   "cell_type": "code",
   "execution_count": 93,
   "metadata": {},
   "outputs": [
    {
     "name": "stdout",
     "output_type": "stream",
     "text": [
      "bore\n",
      "curb_weight\n",
      "drive_wheels\n",
      "engine_location\n",
      "engine_size\n",
      "fuel_system\n",
      "height\n",
      "highway_mpg\n",
      "length\n",
      "normalized_losses\n",
      "num_of_doors\n",
      "peak_rpm\n",
      "price\n",
      "symboling\n",
      "width\n",
      "normalized_losses_NA\n",
      "stroke_ordered\n",
      "horsepower_ordered\n",
      "compression_ratio_ordered\n",
      "wheel_base_ordered\n",
      "widht\n"
     ]
    }
   ],
   "source": [
    "for var in training_vars:\n",
    "    max_abs_value = 2 \n",
    "    if ((df[var].skew()) <=1):  \n",
    "        print (var)"
   ]
  },
  {
   "cell_type": "code",
   "execution_count": 94,
   "metadata": {},
   "outputs": [],
   "source": [
    "# Normal Standarization\n",
    "scalerN = StandardScaler() # create an object\n",
    "X_train_scaledN = scalerN.fit_transform(X_train[['bore',\n",
    "'curb_weight',\n",
    "'drive_wheels',\n",
    "'engine_location',\n",
    "'engine_size',\n",
    "'fuel_system',\n",
    "'height',\n",
    "'highway_mpg',\n",
    "'length',\n",
    "'normalized_losses',\n",
    "'num_of_doors',\n",
    "'peak_rpm',\n",
    "'symboling',\n",
    "'width',\n",
    "'normalized_losses_NA',\n",
    "'stroke_ordered',\n",
    "'horsepower_ordered',\n",
    "'compression_ratio_ordered',\n",
    "'wheel_base_ordered',\n",
    "'widht' ]]) # fit the scaler to the train set, and then transform it\n",
    "X_test_scaledN = scalerN.transform(X_test[['bore',\n",
    "'curb_weight',\n",
    "'drive_wheels',\n",
    "'engine_location',\n",
    "'engine_size',\n",
    "'fuel_system',\n",
    "'height',\n",
    "'highway_mpg',\n",
    "'length',\n",
    "'normalized_losses',\n",
    "'num_of_doors',\n",
    "'peak_rpm',\n",
    "'symboling',\n",
    "'width',\n",
    "'normalized_losses_NA',\n",
    "'stroke_ordered',\n",
    "'horsepower_ordered',\n",
    "'compression_ratio_ordered',\n",
    "'wheel_base_ordered',\n",
    "'widht']]) # transform the test set"
   ]
  },
  {
   "cell_type": "markdown",
   "metadata": {},
   "source": [
    "### 11. Sanity check (nulls)"
   ]
  },
  {
   "cell_type": "code",
   "execution_count": 95,
   "metadata": {},
   "outputs": [],
   "source": [
    "X_train = pd.DataFrame(X_train)\n",
    "X_test = pd.DataFrame(X_test)\n",
    "y_train = pd.DataFrame(y_train)\n",
    "y_test = pd.DataFrame(y_test)"
   ]
  },
  {
   "cell_type": "code",
   "execution_count": 96,
   "metadata": {
    "scrolled": true
   },
   "outputs": [
    {
     "data": {
      "text/plain": [
       "aspiration                   0\n",
       "body_style                   0\n",
       "bore                         0\n",
       "city_mpg                     0\n",
       "curb_weight                  0\n",
       "drive_wheels                 0\n",
       "engine_location              0\n",
       "engine_size                  0\n",
       "engine_type                  0\n",
       "fuel_system                  0\n",
       "fuel_type                    0\n",
       "height                       0\n",
       "highway_mpg                  0\n",
       "length                       0\n",
       "make_id                      0\n",
       "normalized_losses            0\n",
       "num_of_cylinders             0\n",
       "num_of_doors                 0\n",
       "peak_rpm                     0\n",
       "price                        0\n",
       "symboling                    0\n",
       "width                        0\n",
       "normalized_losses_NA         0\n",
       "stroke_ordered               0\n",
       "horsepower_ordered           0\n",
       "compression_ratio_ordered    0\n",
       "wheel_base_ordered           0\n",
       "widht                        0\n",
       "dtype: int64"
      ]
     },
     "execution_count": 96,
     "metadata": {},
     "output_type": "execute_result"
    }
   ],
   "source": [
    "X_train.isnull().sum()"
   ]
  },
  {
   "cell_type": "code",
   "execution_count": 97,
   "metadata": {},
   "outputs": [
    {
     "data": {
      "text/plain": [
       "aspiration                   0\n",
       "body_style                   0\n",
       "bore                         0\n",
       "city_mpg                     0\n",
       "curb_weight                  0\n",
       "drive_wheels                 0\n",
       "engine_location              0\n",
       "engine_size                  0\n",
       "engine_type                  0\n",
       "fuel_system                  0\n",
       "fuel_type                    0\n",
       "height                       0\n",
       "highway_mpg                  0\n",
       "length                       0\n",
       "make_id                      0\n",
       "normalized_losses            0\n",
       "num_of_cylinders             0\n",
       "num_of_doors                 0\n",
       "peak_rpm                     0\n",
       "price                        0\n",
       "symboling                    0\n",
       "width                        0\n",
       "normalized_losses_NA         0\n",
       "stroke_ordered               0\n",
       "horsepower_ordered           0\n",
       "compression_ratio_ordered    0\n",
       "wheel_base_ordered           0\n",
       "widht                        0\n",
       "dtype: int64"
      ]
     },
     "execution_count": 97,
     "metadata": {},
     "output_type": "execute_result"
    }
   ],
   "source": [
    "X_test.isnull().sum()"
   ]
  },
  {
   "cell_type": "code",
   "execution_count": 98,
   "metadata": {},
   "outputs": [
    {
     "data": {
      "text/plain": [
       "price    2\n",
       "dtype: int64"
      ]
     },
     "execution_count": 98,
     "metadata": {},
     "output_type": "execute_result"
    }
   ],
   "source": [
    "y_train.isnull().sum()"
   ]
  },
  {
   "cell_type": "code",
   "execution_count": 99,
   "metadata": {},
   "outputs": [
    {
     "data": {
      "text/plain": [
       "price    2\n",
       "dtype: int64"
      ]
     },
     "execution_count": 99,
     "metadata": {},
     "output_type": "execute_result"
    }
   ],
   "source": [
    "y_test.isnull().sum()"
   ]
  },
  {
   "cell_type": "code",
   "execution_count": 100,
   "metadata": {},
   "outputs": [
    {
     "data": {
      "text/plain": [
       "count      172.000000\n",
       "mean     13587.604651\n",
       "std       8320.024245\n",
       "min       5195.000000\n",
       "25%       7784.750000\n",
       "50%      10646.500000\n",
       "75%      16525.750000\n",
       "max      45400.000000\n",
       "Name: price, dtype: float64"
      ]
     },
     "execution_count": 100,
     "metadata": {},
     "output_type": "execute_result"
    }
   ],
   "source": [
    "y_train['price'].describe()"
   ]
  },
  {
   "cell_type": "code",
   "execution_count": 101,
   "metadata": {},
   "outputs": [],
   "source": [
    "y_train['price'].fillna(10646.5, inplace = True)"
   ]
  },
  {
   "cell_type": "code",
   "execution_count": 102,
   "metadata": {},
   "outputs": [
    {
     "data": {
      "text/plain": [
       "0"
      ]
     },
     "execution_count": 102,
     "metadata": {},
     "output_type": "execute_result"
    }
   ],
   "source": [
    "y_train['price'].isnull().sum()"
   ]
  },
  {
   "cell_type": "code",
   "execution_count": 103,
   "metadata": {},
   "outputs": [
    {
     "data": {
      "text/plain": [
       "count       29.000000\n",
       "mean     10950.517241\n",
       "std       4711.299795\n",
       "min       5118.000000\n",
       "25%       6938.000000\n",
       "50%       9959.000000\n",
       "75%      15580.000000\n",
       "max      20970.000000\n",
       "Name: price, dtype: float64"
      ]
     },
     "execution_count": 103,
     "metadata": {},
     "output_type": "execute_result"
    }
   ],
   "source": [
    "y_test['price'].describe()"
   ]
  },
  {
   "cell_type": "code",
   "execution_count": 104,
   "metadata": {},
   "outputs": [],
   "source": [
    "y_test['price'].fillna(9959, inplace = True)"
   ]
  },
  {
   "cell_type": "code",
   "execution_count": 105,
   "metadata": {},
   "outputs": [
    {
     "data": {
      "text/plain": [
       "0"
      ]
     },
     "execution_count": 105,
     "metadata": {},
     "output_type": "execute_result"
    }
   ],
   "source": [
    "y_train['price'].isnull().sum()"
   ]
  },
  {
   "cell_type": "code",
   "execution_count": 106,
   "metadata": {},
   "outputs": [
    {
     "data": {
      "text/plain": [
       "0"
      ]
     },
     "execution_count": 106,
     "metadata": {},
     "output_type": "execute_result"
    }
   ],
   "source": [
    "y_test['price'].isnull().sum()"
   ]
  },
  {
   "cell_type": "markdown",
   "metadata": {},
   "source": [
    "### 12. Save selected variables for features predictions"
   ]
  },
  {
   "cell_type": "code",
   "execution_count": 107,
   "metadata": {},
   "outputs": [],
   "source": [
    "X_train_scaledR = pd.DataFrame(X_train_scaledR, columns = ['aspiration', 'body_style', 'engine_type', 'fuel_type'])\n",
    "X_train_scaledMM = pd.DataFrame(X_train_scaledMM, columns = ['num_of_cylinders','make_id','city_mpg'])\n",
    "X_train_scaledN = pd.DataFrame(X_train_scaledN, columns = ['bore',\n",
    "'curb_weight',\n",
    "'drive_wheels',\n",
    "'engine_location',\n",
    "'engine_size',\n",
    "'fuel_system',\n",
    "'height',\n",
    "'highway_mpg',\n",
    "'length',\n",
    "'normalized_losses',\n",
    "'num_of_doors',\n",
    "'peak_rpm',\n",
    "'symboling',\n",
    "'width',\n",
    "'normalized_losses_NA',\n",
    "'stroke_ordered',\n",
    "'horsepower_ordered',\n",
    "'compression_ratio_ordered',\n",
    "'wheel_base_ordered',\n",
    "'widht'])\n",
    "\n",
    "######\n",
    "X_test_scaledR = pd.DataFrame(X_test_scaledR, columns = ['aspiration', 'body_style', 'engine_type', 'fuel_type'])\n",
    "X_test_scaledMM = pd.DataFrame(X_test_scaledMM, columns = ['num_of_cylinders','make_id','city_mpg'])\n",
    "X_test_scaledN = pd.DataFrame(X_test_scaledN, columns = ['bore',\n",
    "'curb_weight',\n",
    "'drive_wheels',\n",
    "'engine_location',\n",
    "'engine_size',\n",
    "'fuel_system',\n",
    "'height',\n",
    "'highway_mpg',\n",
    "'length',\n",
    "'normalized_losses',\n",
    "'num_of_doors',\n",
    "'peak_rpm',\n",
    "'symboling',\n",
    "'width',\n",
    "'normalized_losses_NA',\n",
    "'stroke_ordered',\n",
    "'horsepower_ordered',\n",
    "'compression_ratio_ordered',\n",
    "'wheel_base_ordered',\n",
    "'widht'])"
   ]
  },
  {
   "cell_type": "code",
   "execution_count": 108,
   "metadata": {},
   "outputs": [],
   "source": [
    "X_train = pd.concat([X_train_scaledR, X_train_scaledMM, X_train_scaledN], axis=1)\n",
    "X_test = pd.concat([X_test_scaledR, X_test_scaledMM, X_test_scaledN], axis=1)\n",
    "\n"
   ]
  },
  {
   "cell_type": "code",
   "execution_count": 109,
   "metadata": {},
   "outputs": [
    {
     "data": {
      "text/html": [
       "<div>\n",
       "<style scoped>\n",
       "    .dataframe tbody tr th:only-of-type {\n",
       "        vertical-align: middle;\n",
       "    }\n",
       "\n",
       "    .dataframe tbody tr th {\n",
       "        vertical-align: top;\n",
       "    }\n",
       "\n",
       "    .dataframe thead th {\n",
       "        text-align: right;\n",
       "    }\n",
       "</style>\n",
       "<table border=\"1\" class=\"dataframe\">\n",
       "  <thead>\n",
       "    <tr style=\"text-align: right;\">\n",
       "      <th></th>\n",
       "      <th>aspiration</th>\n",
       "      <th>body_style</th>\n",
       "      <th>engine_type</th>\n",
       "      <th>fuel_type</th>\n",
       "      <th>num_of_cylinders</th>\n",
       "      <th>make_id</th>\n",
       "      <th>city_mpg</th>\n",
       "      <th>bore</th>\n",
       "      <th>curb_weight</th>\n",
       "      <th>drive_wheels</th>\n",
       "      <th>engine_location</th>\n",
       "      <th>engine_size</th>\n",
       "      <th>fuel_system</th>\n",
       "      <th>height</th>\n",
       "      <th>highway_mpg</th>\n",
       "      <th>length</th>\n",
       "      <th>normalized_losses</th>\n",
       "      <th>num_of_doors</th>\n",
       "      <th>peak_rpm</th>\n",
       "      <th>symboling</th>\n",
       "      <th>width</th>\n",
       "      <th>normalized_losses_NA</th>\n",
       "      <th>stroke_ordered</th>\n",
       "      <th>horsepower_ordered</th>\n",
       "      <th>compression_ratio_ordered</th>\n",
       "      <th>wheel_base_ordered</th>\n",
       "      <th>widht</th>\n",
       "    </tr>\n",
       "  </thead>\n",
       "  <tbody>\n",
       "    <tr>\n",
       "      <th>0</th>\n",
       "      <td>0.0</td>\n",
       "      <td>-0.580772</td>\n",
       "      <td>0.0</td>\n",
       "      <td>0.0</td>\n",
       "      <td>0.000000</td>\n",
       "      <td>0.093924</td>\n",
       "      <td>0.333333</td>\n",
       "      <td>-0.550694</td>\n",
       "      <td>-0.021960</td>\n",
       "      <td>-0.778344</td>\n",
       "      <td>-0.132453</td>\n",
       "      <td>-0.444750</td>\n",
       "      <td>0.965406</td>\n",
       "      <td>0.529179</td>\n",
       "      <td>0.069328</td>\n",
       "      <td>0.698583</td>\n",
       "      <td>-0.181097</td>\n",
       "      <td>0.820413</td>\n",
       "      <td>0.784944</td>\n",
       "      <td>0.346142</td>\n",
       "      <td>0.453360</td>\n",
       "      <td>2.106537</td>\n",
       "      <td>-0.169365</td>\n",
       "      <td>-0.687669</td>\n",
       "      <td>-0.879240</td>\n",
       "      <td>0.185701</td>\n",
       "      <td>0.453360</td>\n",
       "    </tr>\n",
       "    <tr>\n",
       "      <th>1</th>\n",
       "      <td>0.0</td>\n",
       "      <td>-1.000000</td>\n",
       "      <td>0.0</td>\n",
       "      <td>0.0</td>\n",
       "      <td>0.000000</td>\n",
       "      <td>0.465623</td>\n",
       "      <td>0.166667</td>\n",
       "      <td>2.156108</td>\n",
       "      <td>0.386956</td>\n",
       "      <td>1.309589</td>\n",
       "      <td>-0.132453</td>\n",
       "      <td>0.536008</td>\n",
       "      <td>0.965406</td>\n",
       "      <td>-1.461019</td>\n",
       "      <td>-0.512024</td>\n",
       "      <td>-0.459224</td>\n",
       "      <td>2.150649</td>\n",
       "      <td>-1.218899</td>\n",
       "      <td>0.784944</td>\n",
       "      <td>1.373468</td>\n",
       "      <td>1.117853</td>\n",
       "      <td>-0.474713</td>\n",
       "      <td>0.506168</td>\n",
       "      <td>0.599692</td>\n",
       "      <td>-0.526895</td>\n",
       "      <td>-0.820603</td>\n",
       "      <td>1.117853</td>\n",
       "    </tr>\n",
       "    <tr>\n",
       "      <th>2</th>\n",
       "      <td>0.0</td>\n",
       "      <td>0.000000</td>\n",
       "      <td>0.0</td>\n",
       "      <td>0.0</td>\n",
       "      <td>0.000000</td>\n",
       "      <td>0.069243</td>\n",
       "      <td>0.444444</td>\n",
       "      <td>-0.117606</td>\n",
       "      <td>-0.472718</td>\n",
       "      <td>-0.778344</td>\n",
       "      <td>-0.132453</td>\n",
       "      <td>-0.141182</td>\n",
       "      <td>0.965406</td>\n",
       "      <td>0.447946</td>\n",
       "      <td>0.505342</td>\n",
       "      <td>0.087065</td>\n",
       "      <td>-1.767980</td>\n",
       "      <td>0.820413</td>\n",
       "      <td>-1.901203</td>\n",
       "      <td>1.227484</td>\n",
       "      <td>0.263506</td>\n",
       "      <td>-0.474713</td>\n",
       "      <td>-0.411287</td>\n",
       "      <td>-0.176283</td>\n",
       "      <td>-0.879240</td>\n",
       "      <td>0.859699</td>\n",
       "      <td>0.263506</td>\n",
       "    </tr>\n",
       "    <tr>\n",
       "      <th>3</th>\n",
       "      <td>0.0</td>\n",
       "      <td>0.000000</td>\n",
       "      <td>0.0</td>\n",
       "      <td>0.0</td>\n",
       "      <td>0.000000</td>\n",
       "      <td>0.094040</td>\n",
       "      <td>0.500000</td>\n",
       "      <td>-0.695057</td>\n",
       "      <td>-1.210668</td>\n",
       "      <td>-0.778344</td>\n",
       "      <td>-0.132453</td>\n",
       "      <td>-0.724967</td>\n",
       "      <td>-1.210562</td>\n",
       "      <td>0.285481</td>\n",
       "      <td>0.941356</td>\n",
       "      <td>-0.752753</td>\n",
       "      <td>0.077985</td>\n",
       "      <td>0.820413</td>\n",
       "      <td>0.165064</td>\n",
       "      <td>-1.211110</td>\n",
       "      <td>-1.018015</td>\n",
       "      <td>-0.474713</td>\n",
       "      <td>-0.793459</td>\n",
       "      <td>-0.889405</td>\n",
       "      <td>-0.526895</td>\n",
       "      <td>-0.820603</td>\n",
       "      <td>-1.018015</td>\n",
       "    </tr>\n",
       "    <tr>\n",
       "      <th>4</th>\n",
       "      <td>0.0</td>\n",
       "      <td>0.000000</td>\n",
       "      <td>0.0</td>\n",
       "      <td>0.0</td>\n",
       "      <td>0.775761</td>\n",
       "      <td>0.736426</td>\n",
       "      <td>0.083333</td>\n",
       "      <td>1.001206</td>\n",
       "      <td>1.531919</td>\n",
       "      <td>1.309589</td>\n",
       "      <td>-0.132453</td>\n",
       "      <td>1.890389</td>\n",
       "      <td>0.965406</td>\n",
       "      <td>-0.039449</td>\n",
       "      <td>-1.238715</td>\n",
       "      <td>1.571016</td>\n",
       "      <td>-0.181097</td>\n",
       "      <td>-1.218899</td>\n",
       "      <td>0.578317</td>\n",
       "      <td>0.346142</td>\n",
       "      <td>0.927998</td>\n",
       "      <td>2.106537</td>\n",
       "      <td>1.307310</td>\n",
       "      <td>2.518011</td>\n",
       "      <td>1.460642</td>\n",
       "      <td>0.859699</td>\n",
       "      <td>0.927998</td>\n",
       "    </tr>\n",
       "  </tbody>\n",
       "</table>\n",
       "</div>"
      ],
      "text/plain": [
       "   aspiration  body_style  engine_type  fuel_type  num_of_cylinders   make_id  \\\n",
       "0         0.0   -0.580772          0.0        0.0          0.000000  0.093924   \n",
       "1         0.0   -1.000000          0.0        0.0          0.000000  0.465623   \n",
       "2         0.0    0.000000          0.0        0.0          0.000000  0.069243   \n",
       "3         0.0    0.000000          0.0        0.0          0.000000  0.094040   \n",
       "4         0.0    0.000000          0.0        0.0          0.775761  0.736426   \n",
       "\n",
       "   city_mpg      bore  curb_weight  drive_wheels  engine_location  \\\n",
       "0  0.333333 -0.550694    -0.021960     -0.778344        -0.132453   \n",
       "1  0.166667  2.156108     0.386956      1.309589        -0.132453   \n",
       "2  0.444444 -0.117606    -0.472718     -0.778344        -0.132453   \n",
       "3  0.500000 -0.695057    -1.210668     -0.778344        -0.132453   \n",
       "4  0.083333  1.001206     1.531919      1.309589        -0.132453   \n",
       "\n",
       "   engine_size  fuel_system    height  highway_mpg    length  \\\n",
       "0    -0.444750     0.965406  0.529179     0.069328  0.698583   \n",
       "1     0.536008     0.965406 -1.461019    -0.512024 -0.459224   \n",
       "2    -0.141182     0.965406  0.447946     0.505342  0.087065   \n",
       "3    -0.724967    -1.210562  0.285481     0.941356 -0.752753   \n",
       "4     1.890389     0.965406 -0.039449    -1.238715  1.571016   \n",
       "\n",
       "   normalized_losses  num_of_doors  peak_rpm  symboling     width  \\\n",
       "0          -0.181097      0.820413  0.784944   0.346142  0.453360   \n",
       "1           2.150649     -1.218899  0.784944   1.373468  1.117853   \n",
       "2          -1.767980      0.820413 -1.901203   1.227484  0.263506   \n",
       "3           0.077985      0.820413  0.165064  -1.211110 -1.018015   \n",
       "4          -0.181097     -1.218899  0.578317   0.346142  0.927998   \n",
       "\n",
       "   normalized_losses_NA  stroke_ordered  horsepower_ordered  \\\n",
       "0              2.106537       -0.169365           -0.687669   \n",
       "1             -0.474713        0.506168            0.599692   \n",
       "2             -0.474713       -0.411287           -0.176283   \n",
       "3             -0.474713       -0.793459           -0.889405   \n",
       "4              2.106537        1.307310            2.518011   \n",
       "\n",
       "   compression_ratio_ordered  wheel_base_ordered     widht  \n",
       "0                  -0.879240            0.185701  0.453360  \n",
       "1                  -0.526895           -0.820603  1.117853  \n",
       "2                  -0.879240            0.859699  0.263506  \n",
       "3                  -0.526895           -0.820603 -1.018015  \n",
       "4                   1.460642            0.859699  0.927998  "
      ]
     },
     "execution_count": 109,
     "metadata": {},
     "output_type": "execute_result"
    }
   ],
   "source": [
    "X_train.head()"
   ]
  },
  {
   "cell_type": "code",
   "execution_count": 110,
   "metadata": {},
   "outputs": [],
   "source": [
    "X_train = pd.DataFrame(X_train)\n",
    "X_train.to_csv('X_train.csv', index=False)"
   ]
  },
  {
   "cell_type": "code",
   "execution_count": 111,
   "metadata": {},
   "outputs": [
    {
     "data": {
      "text/html": [
       "<div>\n",
       "<style scoped>\n",
       "    .dataframe tbody tr th:only-of-type {\n",
       "        vertical-align: middle;\n",
       "    }\n",
       "\n",
       "    .dataframe tbody tr th {\n",
       "        vertical-align: top;\n",
       "    }\n",
       "\n",
       "    .dataframe thead th {\n",
       "        text-align: right;\n",
       "    }\n",
       "</style>\n",
       "<table border=\"1\" class=\"dataframe\">\n",
       "  <thead>\n",
       "    <tr style=\"text-align: right;\">\n",
       "      <th></th>\n",
       "      <th>aspiration</th>\n",
       "      <th>body_style</th>\n",
       "      <th>engine_type</th>\n",
       "      <th>fuel_type</th>\n",
       "      <th>num_of_cylinders</th>\n",
       "      <th>make_id</th>\n",
       "      <th>city_mpg</th>\n",
       "      <th>bore</th>\n",
       "      <th>curb_weight</th>\n",
       "      <th>drive_wheels</th>\n",
       "      <th>engine_location</th>\n",
       "      <th>engine_size</th>\n",
       "      <th>fuel_system</th>\n",
       "      <th>height</th>\n",
       "      <th>highway_mpg</th>\n",
       "      <th>length</th>\n",
       "      <th>normalized_losses</th>\n",
       "      <th>num_of_doors</th>\n",
       "      <th>peak_rpm</th>\n",
       "      <th>symboling</th>\n",
       "      <th>width</th>\n",
       "      <th>normalized_losses_NA</th>\n",
       "      <th>stroke_ordered</th>\n",
       "      <th>horsepower_ordered</th>\n",
       "      <th>compression_ratio_ordered</th>\n",
       "      <th>wheel_base_ordered</th>\n",
       "      <th>widht</th>\n",
       "    </tr>\n",
       "  </thead>\n",
       "  <tbody>\n",
       "    <tr>\n",
       "      <th>0</th>\n",
       "      <td>0.0</td>\n",
       "      <td>-1.000000</td>\n",
       "      <td>0.000000</td>\n",
       "      <td>0.0</td>\n",
       "      <td>0.000000</td>\n",
       "      <td>0.096338</td>\n",
       "      <td>0.500000</td>\n",
       "      <td>-1.128145</td>\n",
       "      <td>-1.273431</td>\n",
       "      <td>-0.778344</td>\n",
       "      <td>-0.132453</td>\n",
       "      <td>-0.865075</td>\n",
       "      <td>-1.210562</td>\n",
       "      <td>0.123016</td>\n",
       "      <td>1.086694</td>\n",
       "      <td>-1.258275</td>\n",
       "      <td>-0.504951</td>\n",
       "      <td>-1.218899</td>\n",
       "      <td>-0.248189</td>\n",
       "      <td>-1.211110</td>\n",
       "      <td>-0.828160</td>\n",
       "      <td>-0.474713</td>\n",
       "      <td>0.506168</td>\n",
       "      <td>-0.927738</td>\n",
       "      <td>-0.879240</td>\n",
       "      <td>-0.592607</td>\n",
       "      <td>-0.828160</td>\n",
       "    </tr>\n",
       "    <tr>\n",
       "      <th>1</th>\n",
       "      <td>0.0</td>\n",
       "      <td>-0.580772</td>\n",
       "      <td>2.631301</td>\n",
       "      <td>0.0</td>\n",
       "      <td>0.775761</td>\n",
       "      <td>0.069243</td>\n",
       "      <td>0.166667</td>\n",
       "      <td>-0.261969</td>\n",
       "      <td>1.096377</td>\n",
       "      <td>1.309589</td>\n",
       "      <td>-0.132453</td>\n",
       "      <td>0.769522</td>\n",
       "      <td>0.965406</td>\n",
       "      <td>0.123016</td>\n",
       "      <td>-0.948038</td>\n",
       "      <td>1.081801</td>\n",
       "      <td>-0.181097</td>\n",
       "      <td>0.820413</td>\n",
       "      <td>0.165064</td>\n",
       "      <td>1.227484</td>\n",
       "      <td>0.263506</td>\n",
       "      <td>2.106537</td>\n",
       "      <td>0.506168</td>\n",
       "      <td>-0.927738</td>\n",
       "      <td>-1.625007</td>\n",
       "      <td>-0.592607</td>\n",
       "      <td>0.263506</td>\n",
       "    </tr>\n",
       "    <tr>\n",
       "      <th>2</th>\n",
       "      <td>0.0</td>\n",
       "      <td>0.000000</td>\n",
       "      <td>0.000000</td>\n",
       "      <td>0.0</td>\n",
       "      <td>0.611065</td>\n",
       "      <td>0.465623</td>\n",
       "      <td>0.166667</td>\n",
       "      <td>-0.550694</td>\n",
       "      <td>-0.128468</td>\n",
       "      <td>-0.778344</td>\n",
       "      <td>-0.132453</td>\n",
       "      <td>0.185738</td>\n",
       "      <td>0.965406</td>\n",
       "      <td>-0.283147</td>\n",
       "      <td>-0.802700</td>\n",
       "      <td>0.225676</td>\n",
       "      <td>-0.181097</td>\n",
       "      <td>-1.218899</td>\n",
       "      <td>0.784944</td>\n",
       "      <td>-0.958794</td>\n",
       "      <td>0.168578</td>\n",
       "      <td>2.106537</td>\n",
       "      <td>0.506168</td>\n",
       "      <td>-0.927738</td>\n",
       "      <td>1.460642</td>\n",
       "      <td>-0.592607</td>\n",
       "      <td>0.168578</td>\n",
       "    </tr>\n",
       "    <tr>\n",
       "      <th>3</th>\n",
       "      <td>0.0</td>\n",
       "      <td>-1.000000</td>\n",
       "      <td>1.383807</td>\n",
       "      <td>0.0</td>\n",
       "      <td>1.000000</td>\n",
       "      <td>0.465623</td>\n",
       "      <td>0.944444</td>\n",
       "      <td>-1.561233</td>\n",
       "      <td>-2.066537</td>\n",
       "      <td>-0.778344</td>\n",
       "      <td>-0.132453</td>\n",
       "      <td>-1.565617</td>\n",
       "      <td>-1.210562</td>\n",
       "      <td>-0.242531</td>\n",
       "      <td>3.266765</td>\n",
       "      <td>-2.725918</td>\n",
       "      <td>0.045600</td>\n",
       "      <td>-1.218899</td>\n",
       "      <td>-0.041563</td>\n",
       "      <td>-0.958794</td>\n",
       "      <td>-2.679246</td>\n",
       "      <td>-0.474713</td>\n",
       "      <td>0.506168</td>\n",
       "      <td>-0.927738</td>\n",
       "      <td>-0.526895</td>\n",
       "      <td>-0.592607</td>\n",
       "      <td>-2.679246</td>\n",
       "    </tr>\n",
       "    <tr>\n",
       "      <th>4</th>\n",
       "      <td>0.0</td>\n",
       "      <td>0.000000</td>\n",
       "      <td>0.000000</td>\n",
       "      <td>0.0</td>\n",
       "      <td>0.000000</td>\n",
       "      <td>0.093924</td>\n",
       "      <td>0.361111</td>\n",
       "      <td>-0.550694</td>\n",
       "      <td>-0.522168</td>\n",
       "      <td>-0.778344</td>\n",
       "      <td>-0.132453</td>\n",
       "      <td>-0.444750</td>\n",
       "      <td>0.965406</td>\n",
       "      <td>0.772876</td>\n",
       "      <td>0.214666</td>\n",
       "      <td>-0.230924</td>\n",
       "      <td>-0.828805</td>\n",
       "      <td>0.820413</td>\n",
       "      <td>0.784944</td>\n",
       "      <td>-0.958794</td>\n",
       "      <td>-0.211132</td>\n",
       "      <td>-0.474713</td>\n",
       "      <td>0.506168</td>\n",
       "      <td>-0.927738</td>\n",
       "      <td>0.469621</td>\n",
       "      <td>-0.592607</td>\n",
       "      <td>-0.211132</td>\n",
       "    </tr>\n",
       "  </tbody>\n",
       "</table>\n",
       "</div>"
      ],
      "text/plain": [
       "   aspiration  body_style  engine_type  fuel_type  num_of_cylinders   make_id  \\\n",
       "0         0.0   -1.000000     0.000000        0.0          0.000000  0.096338   \n",
       "1         0.0   -0.580772     2.631301        0.0          0.775761  0.069243   \n",
       "2         0.0    0.000000     0.000000        0.0          0.611065  0.465623   \n",
       "3         0.0   -1.000000     1.383807        0.0          1.000000  0.465623   \n",
       "4         0.0    0.000000     0.000000        0.0          0.000000  0.093924   \n",
       "\n",
       "   city_mpg      bore  curb_weight  drive_wheels  engine_location  \\\n",
       "0  0.500000 -1.128145    -1.273431     -0.778344        -0.132453   \n",
       "1  0.166667 -0.261969     1.096377      1.309589        -0.132453   \n",
       "2  0.166667 -0.550694    -0.128468     -0.778344        -0.132453   \n",
       "3  0.944444 -1.561233    -2.066537     -0.778344        -0.132453   \n",
       "4  0.361111 -0.550694    -0.522168     -0.778344        -0.132453   \n",
       "\n",
       "   engine_size  fuel_system    height  highway_mpg    length  \\\n",
       "0    -0.865075    -1.210562  0.123016     1.086694 -1.258275   \n",
       "1     0.769522     0.965406  0.123016    -0.948038  1.081801   \n",
       "2     0.185738     0.965406 -0.283147    -0.802700  0.225676   \n",
       "3    -1.565617    -1.210562 -0.242531     3.266765 -2.725918   \n",
       "4    -0.444750     0.965406  0.772876     0.214666 -0.230924   \n",
       "\n",
       "   normalized_losses  num_of_doors  peak_rpm  symboling     width  \\\n",
       "0          -0.504951     -1.218899 -0.248189  -1.211110 -0.828160   \n",
       "1          -0.181097      0.820413  0.165064   1.227484  0.263506   \n",
       "2          -0.181097     -1.218899  0.784944  -0.958794  0.168578   \n",
       "3           0.045600     -1.218899 -0.041563  -0.958794 -2.679246   \n",
       "4          -0.828805      0.820413  0.784944  -0.958794 -0.211132   \n",
       "\n",
       "   normalized_losses_NA  stroke_ordered  horsepower_ordered  \\\n",
       "0             -0.474713        0.506168           -0.927738   \n",
       "1              2.106537        0.506168           -0.927738   \n",
       "2              2.106537        0.506168           -0.927738   \n",
       "3             -0.474713        0.506168           -0.927738   \n",
       "4             -0.474713        0.506168           -0.927738   \n",
       "\n",
       "   compression_ratio_ordered  wheel_base_ordered     widht  \n",
       "0                  -0.879240           -0.592607 -0.828160  \n",
       "1                  -1.625007           -0.592607  0.263506  \n",
       "2                   1.460642           -0.592607  0.168578  \n",
       "3                  -0.526895           -0.592607 -2.679246  \n",
       "4                   0.469621           -0.592607 -0.211132  "
      ]
     },
     "execution_count": 111,
     "metadata": {},
     "output_type": "execute_result"
    }
   ],
   "source": [
    "X_test = pd.DataFrame(X_test)\n",
    "X_test.to_csv('X_test.csv', index=False)\n",
    "\n",
    "X_test.head()"
   ]
  },
  {
   "cell_type": "code",
   "execution_count": 112,
   "metadata": {},
   "outputs": [
    {
     "data": {
      "text/html": [
       "<div>\n",
       "<style scoped>\n",
       "    .dataframe tbody tr th:only-of-type {\n",
       "        vertical-align: middle;\n",
       "    }\n",
       "\n",
       "    .dataframe tbody tr th {\n",
       "        vertical-align: top;\n",
       "    }\n",
       "\n",
       "    .dataframe thead th {\n",
       "        text-align: right;\n",
       "    }\n",
       "</style>\n",
       "<table border=\"1\" class=\"dataframe\">\n",
       "  <thead>\n",
       "    <tr style=\"text-align: right;\">\n",
       "      <th></th>\n",
       "      <th>price</th>\n",
       "    </tr>\n",
       "  </thead>\n",
       "  <tbody>\n",
       "    <tr>\n",
       "      <th>193</th>\n",
       "      <td>12290.0</td>\n",
       "    </tr>\n",
       "    <tr>\n",
       "      <th>125</th>\n",
       "      <td>22018.0</td>\n",
       "    </tr>\n",
       "    <tr>\n",
       "      <th>173</th>\n",
       "      <td>8948.0</td>\n",
       "    </tr>\n",
       "    <tr>\n",
       "      <th>92</th>\n",
       "      <td>6849.0</td>\n",
       "    </tr>\n",
       "    <tr>\n",
       "      <th>16</th>\n",
       "      <td>41315.0</td>\n",
       "    </tr>\n",
       "  </tbody>\n",
       "</table>\n",
       "</div>"
      ],
      "text/plain": [
       "       price\n",
       "193  12290.0\n",
       "125  22018.0\n",
       "173   8948.0\n",
       "92    6849.0\n",
       "16   41315.0"
      ]
     },
     "execution_count": 112,
     "metadata": {},
     "output_type": "execute_result"
    }
   ],
   "source": [
    "y_train = pd.DataFrame(y_train)\n",
    "y_train.to_csv('y_train.csv', index=False)\n",
    "\n",
    "y_train.head()"
   ]
  },
  {
   "cell_type": "code",
   "execution_count": 113,
   "metadata": {},
   "outputs": [],
   "source": [
    "y_test = pd.DataFrame(y_test)\n",
    "y_test.to_csv('y_test.csv', index=False)"
   ]
  }
 ],
 "metadata": {
  "kernelspec": {
   "display_name": "Python 3",
   "language": "python",
   "name": "python3"
  },
  "language_info": {
   "codemirror_mode": {
    "name": "ipython",
    "version": 3
   },
   "file_extension": ".py",
   "mimetype": "text/x-python",
   "name": "python",
   "nbconvert_exporter": "python",
   "pygments_lexer": "ipython3",
   "version": "3.6.8"
  }
 },
 "nbformat": 4,
 "nbformat_minor": 2
}
